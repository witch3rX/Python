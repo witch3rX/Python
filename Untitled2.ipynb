{
  "nbformat": 4,
  "nbformat_minor": 0,
  "metadata": {
    "colab": {
      "provenance": [],
      "include_colab_link": true
    },
    "kernelspec": {
      "name": "python3",
      "display_name": "Python 3"
    },
    "language_info": {
      "name": "python"
    }
  },
  "cells": [
    {
      "cell_type": "markdown",
      "metadata": {
        "id": "view-in-github",
        "colab_type": "text"
      },
      "source": [
        "<a href=\"https://colab.research.google.com/github/witch3rX/Python/blob/main/Untitled2.ipynb\" target=\"_parent\"><img src=\"https://colab.research.google.com/assets/colab-badge.svg\" alt=\"Open In Colab\"/></a>"
      ]
    },
    {
      "cell_type": "code",
      "execution_count": null,
      "metadata": {
        "colab": {
          "base_uri": "https://localhost:8080/"
        },
        "id": "P4T6ShIHVt8B",
        "outputId": "8e27709e-0694-42fa-f169-f25c3c078a75"
      },
      "outputs": [
        {
          "output_type": "stream",
          "name": "stdout",
          "text": [
            "[6, 4, 10, 4, 12, 20, 14, -3, 12, 16, 18]\n"
          ]
        }
      ],
      "source": [
        "# Adding the items of two lists\n",
        "a = [1 , 2, 3, 4 , 7, 10, 8, 0, 12, 16, 18]\n",
        "b = [5, 2, 7, 0, 5, 10, 6, -3]\n",
        "c = []\n",
        "i = 0\n",
        "maxLen = 0\n",
        "if(len(a) > len(b)): maxLen = len(a)\n",
        "else: maxLen = len(b)\n",
        "\n",
        "while(i < maxLen):\n",
        "  if(i < len(a) and i < len(b)):\n",
        "    c.append(a[i] + b[i])\n",
        "  elif(i < len(a)):\n",
        "    c.append(a[i])\n",
        "  else:\n",
        "    c.append(b[i])\n",
        "  i += 1\n",
        "\n",
        "print(c)\n",
        "# Add a and b and store the result in c"
      ]
    },
    {
      "cell_type": "code",
      "source": [
        "# Check whether a given list is palindrome or not\n",
        "# ['M', 'A', 'D', 'A', 'M']\n",
        "n = int(input(\"enter number of items of the list:\"))\n",
        "p = []\n",
        "for i in range(n):\n",
        "  p.append(input(\">\"))\n",
        "\n",
        "ifront = 0\n",
        "iback = len(p)-1\n",
        "for a in p:\n",
        "  if(p[ifront] != p[iback]):\n",
        "    print(\"Not a palindrome\")\n",
        "    break\n",
        "\n",
        "  ifront += 1\n",
        "  iback -= 1\n",
        "\n",
        "if(ifront == len(p)):\n",
        "  print(\"Palindrome\")"
      ],
      "metadata": {
        "colab": {
          "base_uri": "https://localhost:8080/"
        },
        "id": "fkMZ7wFXXzuH",
        "outputId": "d112eeef-5c12-4341-e114-7ddd43e2cd4e"
      },
      "execution_count": null,
      "outputs": [
        {
          "output_type": "stream",
          "name": "stdout",
          "text": [
            "enter number of items of the list:3\n",
            ">1\n",
            ">2\n",
            ">3\n",
            "['1', '2', '3']\n",
            "Not a palindrome\n"
          ]
        }
      ]
    },
    {
      "cell_type": "code",
      "source": [
        "#Fibonacci series\n",
        "n = int(input(\"Enter number of terms:\"))\n",
        "fib = list()\n",
        "# your code\n",
        "print(fib)"
      ],
      "metadata": {
        "colab": {
          "base_uri": "https://localhost:8080/"
        },
        "id": "j6wu1nw6YTl3",
        "outputId": "85ab7b50-27ff-461a-a8b7-aa915835665a"
      },
      "execution_count": null,
      "outputs": [
        {
          "output_type": "stream",
          "name": "stdout",
          "text": [
            "1\n",
            "3\n"
          ]
        }
      ]
    },
    {
      "cell_type": "code",
      "source": [
        "# Euclidean Distance\n",
        "n = int(input(\"Enter number of points:\"))\n",
        "x = []\n",
        "y = []\n",
        "euc_dist = 0\n",
        "for i in n:\n",
        "  a = float(input(\"Enter x:\"))\n",
        "  b = float(input(\"Enter y:\"))\n",
        "  # Your code\n",
        "print(euc_dist)"
      ],
      "metadata": {
        "id": "Gn21MQX3a-u_"
      },
      "execution_count": null,
      "outputs": []
    }
  ]
}