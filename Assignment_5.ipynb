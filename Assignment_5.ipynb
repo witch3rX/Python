{
  "nbformat": 4,
  "nbformat_minor": 0,
  "metadata": {
    "colab": {
      "provenance": [],
      "include_colab_link": true
    },
    "kernelspec": {
      "name": "python3",
      "display_name": "Python 3"
    },
    "language_info": {
      "name": "python"
    }
  },
  "cells": [
    {
      "cell_type": "markdown",
      "metadata": {
        "id": "view-in-github",
        "colab_type": "text"
      },
      "source": [
        "<a href=\"https://colab.research.google.com/github/witch3rX/Python/blob/main/Assignment_5.ipynb\" target=\"_parent\"><img src=\"https://colab.research.google.com/assets/colab-badge.svg\" alt=\"Open In Colab\"/></a>"
      ]
    },
    {
      "cell_type": "markdown",
      "metadata": {
        "id": "X8D4piECzwm9"
      },
      "source": [
        "**Name**: Gazi Iram Ridwan\n",
        "\n",
        "**ID**: 2222333\n",
        "\n",
        "**Section**: 6\n",
        "\n",
        "\n",
        "---"
      ]
    },
    {
      "cell_type": "markdown",
      "metadata": {
        "id": "Y-AlHDws0Czn"
      },
      "source": [
        "\n",
        "This assignment will let you practice lists and its applications which you have learned in the class. You should create a copy of this colab file in your colab directory and turn in the link with edit access in the Assignment number 5 of google classroom. Do not delete any cell, if you are unable to answer any question then leave the code and question cells as it is. Do your own work even if it consists of one line of code. Never ever copy anyone else's code. Keep your work as much original as you are\n",
        "\n",
        "Enjoy Coding!"
      ]
    },
    {
      "cell_type": "markdown",
      "source": [
        "1. Create a list named **my_list** of length 5 and run a loop to store numbers 1 to 5 in the list. Once the loop is finished, print the items of the list."
      ],
      "metadata": {
        "id": "bLkHE2sZCCbo"
      }
    },
    {
      "cell_type": "code",
      "source": [
        "my_list=[1,2,3,4,5]\n",
        "for i in range(0,1):\n",
        "  print(my_list)"
      ],
      "metadata": {
        "id": "9fNPGlRlCUCE",
        "colab": {
          "base_uri": "https://localhost:8080/"
        },
        "outputId": "1fd14b1c-16df-45ae-ee79-86f381d20de2"
      },
      "execution_count": null,
      "outputs": [
        {
          "output_type": "stream",
          "name": "stdout",
          "text": [
            "[1, 2, 3, 4, 5]\n"
          ]
        }
      ]
    },
    {
      "cell_type": "markdown",
      "source": [
        "2. Take a number **n** as input and create a list which stores first n odd numbers into the list."
      ],
      "metadata": {
        "id": "Cf9IAv0hCblq"
      }
    },
    {
      "cell_type": "code",
      "source": [
        "n= int(input(\"Take a number:\"))\n",
        "x=[]\n",
        "for i in range(n+1):\n",
        "  if i%2 != 0:\n",
        "    x.append(i)\n",
        "print(x)"
      ],
      "metadata": {
        "id": "1Q4cx98yCm4C",
        "colab": {
          "base_uri": "https://localhost:8080/"
        },
        "outputId": "9c6fda7c-9ebe-4035-e09b-fb329d6a2d2e"
      },
      "execution_count": null,
      "outputs": [
        {
          "output_type": "stream",
          "name": "stdout",
          "text": [
            "Take a number:5\n",
            "[1, 3, 5]\n"
          ]
        }
      ]
    },
    {
      "cell_type": "markdown",
      "source": [
        "3. The code below generates random integer numbers of range 1 to 100 and stores it in a list named **my_list**. The code prints the items of the list using one print statement. Change the code so that it now prints the list in the reverse order using a loop.\n",
        "\n"
      ],
      "metadata": {
        "id": "IuKM_S-FCnLE"
      }
    },
    {
      "cell_type": "code",
      "source": [
        "from random import seed, randint\n",
        "my_list = []\n",
        "for i in range(100):\n",
        "  seed(i)\n",
        "  my_list.append(randint(1,100))\n",
        "\n",
        "print(my_list, end=\",\")"
      ],
      "metadata": {
        "colab": {
          "base_uri": "https://localhost:8080/"
        },
        "id": "RnfH5yScFCYh",
        "outputId": "7686e073-48d1-4c43-a9fd-7f96c016444a"
      },
      "execution_count": null,
      "outputs": [
        {
          "output_type": "stream",
          "name": "stdout",
          "text": [
            "[50, 18, 8, 31, 31, 80, 74, 42, 30, 60, 74, 58, 61, 34, 14, 27, 47, 67, 24, 87, 93, 22, 18, 100, 92, 49, 96, 84, 15, 71, 70, 2, 10, 74, 68, 71, 43, 88, 82, 27, 59, 49, 82, 5, 53, 35, 10, 46, 71, 9, 64, 32, 35, 79, 18, 12, 72, 6, 75, 29, 40, 64, 74, 57, 61, 54, 10, 10, 95, 88, 16, 42, 10, 36, 79, 58, 48, 33, 25, 19, 35, 65, 19, 64, 94, 26, 100, 19, 51, 11, 27, 11, 54, 64, 70, 98, 48, 25, 46, 52],"
          ]
        }
      ]
    },
    {
      "cell_type": "markdown",
      "source": [
        "4. Write a Python program to multiply all the items in a list. Take the length of the list as user input and populate the list with random numbers.\n",
        "[How to generate a random number in python](https://www.programiz.com/python-programming/examples/random-number)"
      ],
      "metadata": {
        "id": "2nzkZ5v0spAh"
      }
    },
    {
      "cell_type": "code",
      "source": [
        "import random\n",
        "n=int(input(\"Enter the length of the list:\"))\n",
        "list1=[]\n",
        "x=0\n",
        "m=1\n",
        "while x<n:\n",
        "  a=random.randint(1,100)\n",
        "  list1.append(a)\n",
        "  m=m*a\n",
        "  x+=1\n",
        "print(\"Your list is =\",list1)\n",
        "print(\"Multiply =\",m)"
      ],
      "metadata": {
        "id": "mVl0w-jasoST",
        "colab": {
          "base_uri": "https://localhost:8080/"
        },
        "outputId": "4fec20c4-a364-4e53-9cd0-73471ca210a9"
      },
      "execution_count": null,
      "outputs": [
        {
          "output_type": "stream",
          "name": "stdout",
          "text": [
            "Enter the length of the list:5\n",
            "Your list is = [51, 31, 67, 24, 64]\n",
            "Multiply = 162703872\n"
          ]
        }
      ]
    },
    {
      "cell_type": "markdown",
      "source": [
        "5. Write a python program which takes a number **n** as input and create a list of random numbers and print the largest number from the list.\n",
        "*Note: You can't use max() method of the list, you have to create your own function.*"
      ],
      "metadata": {
        "id": "4ZLfLM-N5Euh"
      }
    },
    {
      "cell_type": "code",
      "source": [
        "import random\n",
        "n=int(input(\"Enter the length of the list:\"))\n",
        "list1=[]\n",
        "x=0\n",
        "\n",
        "while x<n:\n",
        "  a=random.randint(1,100)\n",
        "  list1.append(a)\n",
        "\n",
        "  x+=1\n",
        "x=0\n",
        "m=-1\n",
        "while x<n:\n",
        "  if list1[x]>m:\n",
        "    m=list1[x]\n",
        "  x+=1\n",
        "print(\"Your list is =\",list1)\n",
        "print(\"Maxiumum Value of the list:\",m)"
      ],
      "metadata": {
        "id": "cUlASuTzsn_p",
        "colab": {
          "base_uri": "https://localhost:8080/"
        },
        "outputId": "046566a9-8bb5-478f-af25-ac2eba6f5d91"
      },
      "execution_count": null,
      "outputs": [
        {
          "output_type": "stream",
          "name": "stdout",
          "text": [
            "Enter the length of the list:5\n",
            "Your list is = [73, 92, 60, 86, 70]\n",
            "Maxiumum Value of the list: 92\n"
          ]
        }
      ]
    },
    {
      "cell_type": "markdown",
      "source": [
        "6. Write a Python program to count the number of strings where the string length is 2 or more and the first and last characters of the string are same.\n",
        "\n",
        "  Sample List : **['abc', 'xyz', 'aba', '1221']**\n",
        "\n",
        "  Output : **Number of strings: 2**"
      ],
      "metadata": {
        "id": "2TbaKXW46VU_"
      }
    },
    {
      "cell_type": "code",
      "source": [
        "def match_words(words):\n",
        "  ctr = 0\n",
        "  list1 = []\n",
        "\n",
        "  for word in words:\n",
        "    if len(word) > 1 and word[0] == word[-1]:\n",
        "      ctr += 1\n",
        "  return ctr\n",
        "\n",
        "x =  match_words(['abc', 'xyz', 'aba', '1221'])\n",
        "print(f\"Number of strings: {x}\")\n"
      ],
      "metadata": {
        "id": "HOgg9-OAsnyC"
      },
      "execution_count": null,
      "outputs": []
    },
    {
      "cell_type": "markdown",
      "source": [
        "7. Write a Python function named **commonMember** that takes two lists and returns True if they have at least two common members.\n",
        "  \n",
        "  Two sample list: **['abc', 'nobita', 'shinchan'] & ['a', 'abc', 'nobita', 'efg']**\n",
        "\n",
        "  Output: **The function should return Ture**"
      ],
      "metadata": {
        "id": "wD-8GAhK6vQd"
      }
    },
    {
      "cell_type": "code",
      "source": [
        "list1=['abc', 'nobita', 'shinchan']\n",
        "list2= ['a', 'abc', 'nobita', 'efg']\n",
        "\n",
        "def commonmember(list1,list2,k):\n",
        "  for i in list1:\n",
        "\n",
        "    x=0\n",
        "    while x<len(list2):\n",
        "      if i==list2[x]:\n",
        "        print(x)\n",
        "\n",
        "\n",
        "      x+=1\n",
        "      return x\n",
        "\n",
        "\n",
        "m=commonmember(list1,list2,k)\n",
        "if m==1:\n",
        "  print(\"TRUE\")\n",
        "else:\n",
        "  print(\"FALSE\")"
      ],
      "metadata": {
        "id": "CmJ_S0PPsnjU"
      },
      "execution_count": null,
      "outputs": []
    },
    {
      "cell_type": "markdown",
      "source": [
        "8. Write a python program which takes a number **n** as input and create a list of random numbers and print the list after removing even numbers from that list.\n",
        "\n",
        "  Sample List: **[13, 16, 2, 9, 3]**\n",
        "\n",
        "  Output: **[13, 9, 3]**"
      ],
      "metadata": {
        "id": "IevzN7C-_ds_"
      }
    },
    {
      "cell_type": "code",
      "source": [
        "import random\n",
        "n=int(input(\"Enter the length of the list:\"))\n",
        "list1=[]\n",
        "odd_list=[]\n",
        "x=0\n",
        "\n",
        "while x<n:\n",
        "  a=random.randint(1,100)\n",
        "  list1.append(a)\n",
        "  if a%2!=0:\n",
        "    odd_list.append(list1[x])\n",
        "\n",
        "  x+=1\n",
        "print(\"Sample list:\",list1)\n",
        "print(\"Odd list:\",odd_list)"
      ],
      "metadata": {
        "id": "y8Yml9JHsnNJ",
        "colab": {
          "base_uri": "https://localhost:8080/"
        },
        "outputId": "f7f882a7-d533-40de-ccee-aace3268e14b"
      },
      "execution_count": null,
      "outputs": [
        {
          "output_type": "stream",
          "name": "stdout",
          "text": [
            "Enter the length of the list:5\n",
            "Sample list: [96, 88, 69, 46, 24]\n",
            "Odd list: [69]\n"
          ]
        }
      ]
    },
    {
      "cell_type": "markdown",
      "source": [
        "9. Write a python program which takes a number **n** as input and create a list of length **n** and print the unique elements from the list.\n",
        "\n",
        "  Sample list: **['a', 'b', 'a', 'c']**\n",
        "\n",
        "  Output: **Unique elements: b c**"
      ],
      "metadata": {
        "id": "AGU2_XFaBkuM"
      }
    },
    {
      "cell_type": "code",
      "source": [
        "# Write your code here\n",
        "lst = ['a', 'b', 'a', 'a', 'c']\n",
        "lst_tmp = []\n",
        "for i in range(len(lst)):\n",
        "  lst_tmp.append(False)\n",
        "\n",
        "print(\"Before loop: \", lst_tmp)\n",
        "\n",
        "for i in range(len(lst)-1):\n",
        "  for j in range(i+1, len(lst)):\n",
        "    if(lst[i]==lst[j]):\n",
        "      lst_tmp[i] = True\n",
        "      lst_tmp[j] = True\n",
        "\n",
        "print(\"After loop: \",lst_tmp)\n",
        "\n",
        "for i in range(len(lst_tmp)):\n",
        "  if(lst_tmp[i] == False):\n",
        "    print(lst[i],end = \" \")"
      ],
      "metadata": {
        "id": "RTtkYZmGsm7J",
        "colab": {
          "base_uri": "https://localhost:8080/"
        },
        "outputId": "39ed525f-8427-4fc6-fd4f-702bf1fbcd43"
      },
      "execution_count": null,
      "outputs": [
        {
          "output_type": "stream",
          "name": "stdout",
          "text": [
            "Before loop:  [False, False, False, False, False]\n",
            "After loop:  [True, False, True, True, False]\n",
            "b c "
          ]
        }
      ]
    },
    {
      "cell_type": "code",
      "source": [
        "lst = ['a', 'b', 'a', 'a', 'c']\n",
        "lst_tmp = []\n",
        "for i in lst:\n",
        "  if(lst.count(i)==1) and (i not in lst_tmp):\n",
        "    print(i,end=\" \")\n",
        "  else:\n",
        "    lst_tmp.append(i)"
      ],
      "metadata": {
        "colab": {
          "base_uri": "https://localhost:8080/"
        },
        "id": "x15qKfexTjKE",
        "outputId": "450c54fe-1a0f-41ad-e117-52fc6d7badcd"
      },
      "execution_count": null,
      "outputs": [
        {
          "output_type": "stream",
          "name": "stdout",
          "text": [
            "b c "
          ]
        }
      ]
    },
    {
      "cell_type": "markdown",
      "source": [
        "10. Write a python program to check if one list is subset of another list.\n",
        "*Note: You can't use **in** operator. You have to program your own logic*\n",
        "\n",
        "  Sample lists: **['dora cake', 'pizza', 'burger'] & ['burger', 'pizza']**\n",
        "\n",
        "  Output: **Is Subset? True**"
      ],
      "metadata": {
        "id": "KRw1aoxADLtl"
      }
    },
    {
      "cell_type": "code",
      "source": [
        "# Write your code here\n",
        "l1 = ['dora cake', 'pizza', 'burger']\n",
        "l2 = ['burger', 'pizza','b']\n",
        "flag = True\n",
        "for i in l2:\n",
        "  flag = False\n",
        "  for j in l1:\n",
        "    if(i == j):\n",
        "      flag = True\n",
        "  if(flag==False):\n",
        "    print('Is Subset? False')\n",
        "    break\n",
        "if(flag == True):\n",
        "  print('Is Subset? True')"
      ],
      "metadata": {
        "id": "3WU4mBx9smrq",
        "colab": {
          "base_uri": "https://localhost:8080/"
        },
        "outputId": "a9f270a4-0992-4e94-cc23-ba8a32109371"
      },
      "execution_count": null,
      "outputs": [
        {
          "output_type": "stream",
          "name": "stdout",
          "text": [
            "Is Subset? False\n"
          ]
        }
      ]
    },
    {
      "cell_type": "markdown",
      "source": [
        "11. Write a Python program to generate all the sublists of a given list.\n",
        "  \n",
        "  Sample list: **['a', 'b']**\n",
        "  \n",
        "  Output:**All the sublists are: [], [a], [b], [a, b]**"
      ],
      "metadata": {
        "id": "KPT3yRgvE6l9"
      }
    },
    {
      "cell_type": "code",
      "source": [
        "# Write your code here\n",
        "lst = ['a', 'b']\n",
        "# print(lst[0:1])\n",
        "# print(lst[0:2])\n",
        "# print(lst[1:2])\n",
        "lst_tmp = [[]]\n",
        "for i in range(len(lst)): # 0 1\n",
        "  for j in range(i+1, len(lst)+1):\n",
        "    lst_tmp.append(lst[i:j])\n",
        "\n",
        "flag = False\n",
        "for i in lst_tmp:\n",
        "  if(flag == False):\n",
        "    print(i,end = \"\")\n",
        "    flag = True\n",
        "  else:\n",
        "    print(', ', i, end='')"
      ],
      "metadata": {
        "id": "7N_PLdhTsmcS"
      },
      "execution_count": null,
      "outputs": []
    },
    {
      "cell_type": "markdown",
      "source": [
        "12. Write a Python program to convert a list of multiple integers into a single integer.\n",
        "  Sample list: **[7, 13, 150]**\n",
        "\n",
        "  Output: **713150**"
      ],
      "metadata": {
        "id": "MSxZadAlF8Yk"
      }
    },
    {
      "cell_type": "code",
      "source": [
        "list1=[7,13,150]\n",
        "for i in range(len(list1)):\n",
        "  print(int(list1[i]),end=\"\")"
      ],
      "metadata": {
        "id": "MLBlz4bxsmOk",
        "colab": {
          "base_uri": "https://localhost:8080/"
        },
        "outputId": "052f107d-9c9e-43e9-8e8c-014b4b7715e1"
      },
      "execution_count": null,
      "outputs": [
        {
          "output_type": "stream",
          "name": "stdout",
          "text": [
            "713150"
          ]
        }
      ]
    },
    {
      "cell_type": "markdown",
      "source": [
        "13. Take two lists from user with their length. Now compare the two lists and print the missing elements in 2nd list.\n",
        "\n",
        " Sample lists: **['a', 'b', 'c'] & ['e', 'f', 'a']**\n",
        "\n",
        " Output: **Missing elements in the 2nd list are: b, c**"
      ],
      "metadata": {
        "id": "OkAPICYwjuS7"
      }
    },
    {
      "cell_type": "code",
      "source": [
        "list1 = input(\"A list:\")\n",
        "list2 = input(\"A list:\")\n",
        "\n",
        "\n",
        "print(\"Missing elements in second list:\", ','.join(set(list1).difference(list2)))"
      ],
      "metadata": {
        "id": "1aki7OKismAJ",
        "colab": {
          "base_uri": "https://localhost:8080/"
        },
        "outputId": "2b5300ac-0296-4add-cbc8-d63fdf754956"
      },
      "execution_count": null,
      "outputs": [
        {
          "output_type": "stream",
          "name": "stdout",
          "text": [
            "A list:a b c\n",
            "A list:e f a\n",
            "Missing elements in second list: c,b\n"
          ]
        }
      ]
    },
    {
      "cell_type": "markdown",
      "source": [
        "14. Take two lists from user with their length. Now compare the two lists and print the additional elements in the 2nd list.\n",
        "\n",
        " Sample lists: ['a', 'b', 'c'] & ['e', 'f', 'a']\n",
        "\n",
        " Output: Missing elements in the 2nd list are: e, f"
      ],
      "metadata": {
        "id": "KxbTdhlTniTm"
      }
    },
    {
      "cell_type": "code",
      "source": [
        "list1 = input(\"A list:\")\n",
        "list2 = input(\"A list:\")\n",
        "print('Additional values in second list: ', ','.join(set(list2).difference(list1)))"
      ],
      "metadata": {
        "id": "b3geiSZoslxW",
        "colab": {
          "base_uri": "https://localhost:8080/"
        },
        "outputId": "5f94ac88-88a3-42e5-d929-4aef895c1c28"
      },
      "execution_count": null,
      "outputs": [
        {
          "output_type": "stream",
          "name": "stdout",
          "text": [
            "A list:a b c\n",
            "A list:e f a\n",
            "Additional values in second list:  f,e\n"
          ]
        }
      ]
    },
    {
      "cell_type": "markdown",
      "source": [
        "15. Write a python program which takes a number n as input and create a list of length n of random numbers. Create two separate lists from the given list which are odd and even lists. Odd list will contain the odd numbers of the user given list and on the other hand even list will contain even numbers.\n",
        "\n",
        " Sample list: **[1, 10, 50, 33, 99, 500, 23]**\n",
        "\n",
        " Ouput: **odd_list = [1, 33, 99, 23] & even_list = [10, 50, 500]**"
      ],
      "metadata": {
        "id": "AqUZWGAjn6kv"
      }
    },
    {
      "cell_type": "code",
      "source": [
        "import random\n",
        "n=int(input(\"Enter the length of the list:\"))\n",
        "list1=[]\n",
        "odd_list=[]\n",
        "even_list=[]\n",
        "x=0\n",
        "\n",
        "while x<n:\n",
        "  a=random.randint(1,500)\n",
        "  list1.append(a)\n",
        "  if a%2!=0:\n",
        "    odd_list.append(list1[x])\n",
        "  else:\n",
        "    even_list.append(list1[x])\n",
        "\n",
        "  x+=1\n",
        "print(\"Sample list:\",list1)\n",
        "print(\"Odd list:\",odd_list)\n",
        "print(\"Even list:\",even_list)"
      ],
      "metadata": {
        "id": "JmpjGp6EsljJ",
        "colab": {
          "base_uri": "https://localhost:8080/"
        },
        "outputId": "c8d88030-7f26-4c17-b2fa-b0640f103410"
      },
      "execution_count": null,
      "outputs": [
        {
          "output_type": "stream",
          "name": "stdout",
          "text": [
            "Enter the length of the list:5\n",
            "Sample list: [87, 365, 141, 399, 453]\n",
            "Odd list: [87, 365, 141, 399, 453]\n",
            "Even list: []\n"
          ]
        }
      ]
    },
    {
      "cell_type": "markdown",
      "source": [
        "16. Write a python program to sort a list **without using sort() method.**\n",
        "\n",
        " [About Bubble Sort](https://www.javatpoint.com/bubble-sort-in-python)\n",
        "\n",
        " Sample list: **[3, 6, 1, 4, 50, 7]**\n",
        "\n",
        " After sorting: **[1, 3, 4, 6, 7, 50]**"
      ],
      "metadata": {
        "id": "VtZd39MGp0Ju"
      }
    },
    {
      "cell_type": "code",
      "source": [
        "number= [3, 6, 1, 4, 50, 7]\n",
        "for i in range(len(number)):\n",
        "  for j in range(i+1,len(number)):\n",
        "    if number[j]<number[i]:\n",
        "       number[i],number[j]=number[j],number[i]\n",
        "\n",
        "print(number)"
      ],
      "metadata": {
        "id": "olmm0CkUslTM",
        "colab": {
          "base_uri": "https://localhost:8080/"
        },
        "outputId": "e768440a-1be1-40b2-e0b1-080432a50c03"
      },
      "execution_count": null,
      "outputs": [
        {
          "output_type": "stream",
          "name": "stdout",
          "text": [
            "[1, 3, 4, 6, 7, 50]\n"
          ]
        }
      ]
    },
    {
      "cell_type": "markdown",
      "source": [
        "17. Take a list and a value from the user as input. Now check whether the value exists in the given list or not without using any methods.\n",
        "  \n",
        "  Sample list: **list = ['a', 2, 5, 'c'] & value = 2**\n",
        "  \n",
        "  Output: **Is an element? True**"
      ],
      "metadata": {
        "id": "oJpiyjxfrZ_V"
      }
    },
    {
      "cell_type": "code",
      "source": [
        "a = int(input(\"Enter range of list: \"))\n",
        "b = input(\"Enter a value: \")\n",
        "lst= []\n",
        "for i in range(a):\n",
        "  c=input(\"Entry: \" )\n",
        "  lst.append(c)\n",
        "print(f'list{lst} & value {b}')\n",
        "for i in range(len(lst)):\n",
        "  if lst[i] == b:\n",
        "    print(\"Is An Element?\", True)\n",
        "    break\n",
        "else:\n",
        "  print(\"Is An Element?\",False)"
      ],
      "metadata": {
        "id": "XbK1NvF8slDU"
      },
      "execution_count": null,
      "outputs": []
    },
    {
      "cell_type": "markdown",
      "source": [
        "18. Take a list and a string from the user as input. Now insert the given string at the beginning of all items in the given list.\n",
        "\n",
        " Input: **lst = [1, 2, 3, 4] & str = 'nobita'**\n",
        "\n",
        " Expected Output: **lst = ['nobita1', 'nobita2', 'nobita3', 'nobita4']**"
      ],
      "metadata": {
        "id": "5OiNTHDJtQhs"
      }
    },
    {
      "cell_type": "code",
      "source": [
        "def list(lst,s):\n",
        "  s+= \"{0}\"\n",
        "  lst = [s.format(i) for i in lst]\n",
        "  return(lst)\n",
        "lst =[1,2,3,4]\n",
        "s='nobita'\n",
        "print(list(lst, s))"
      ],
      "metadata": {
        "id": "szAbIJiWskt7"
      },
      "execution_count": null,
      "outputs": []
    },
    {
      "cell_type": "markdown",
      "source": [
        "19. Take a list of numbers from the user as input and move all the zero digits to the end of the given list of numbers.\n",
        "\n",
        " Sample list: **[3, 4, 7, 0, 2, 1, 0, 0, 11]**\n",
        "\n",
        " Output: **[3, 4, 7, 2, 1, 11, 0, 0, 0]**"
      ],
      "metadata": {
        "id": "UnEhLFnIux8G"
      }
    },
    {
      "cell_type": "code",
      "source": [
        "x = [3,4,7,0,2,1,0,0,11]\n",
        "num = []\n",
        "zero = []\n",
        "\n",
        "for i in range(len(x)):\n",
        "    if x[i] !=0:\n",
        "        num.append(x[i])\n",
        "    else:\n",
        "        zero.append(x[i])\n",
        "\n",
        "print(num + zero)"
      ],
      "metadata": {
        "id": "QtKnRH6bskbT",
        "colab": {
          "base_uri": "https://localhost:8080/"
        },
        "outputId": "f3d1f9a8-342b-4d4c-f349-7212231e6616"
      },
      "execution_count": null,
      "outputs": [
        {
          "output_type": "stream",
          "name": "stdout",
          "text": [
            "[3, 4, 7, 2, 1, 11, 0, 0, 0]\n"
          ]
        }
      ]
    },
    {
      "cell_type": "markdown",
      "source": [
        "20. Create a nested list(list within a list) of numbers from the user as input and find the list in the nested list whose sum of elements is the highest.\n",
        "\n",
        " Sample lists: **[[1, 2, 3], [4, 5, 6], [10, 11, 12], [7, 8, 9]]**\n",
        "\n",
        " Expected Output: **[10, 11, 12]**"
      ],
      "metadata": {
        "id": "8vXsGhUOvsAV"
      }
    },
    {
      "cell_type": "code",
      "source": [
        "num = [[1,2,3], [4,5,6], [10,11,12], [7,8,9]]\n",
        "print(max(num, key=sum))"
      ],
      "metadata": {
        "id": "gk9jIKtxskG-",
        "colab": {
          "base_uri": "https://localhost:8080/"
        },
        "outputId": "01d3b808-e1fd-4b35-e1da-d1c3f44bf42e"
      },
      "execution_count": null,
      "outputs": [
        {
          "output_type": "stream",
          "name": "stdout",
          "text": [
            "[10, 11, 12]\n"
          ]
        }
      ]
    },
    {
      "cell_type": "markdown",
      "source": [
        "21. Write a Python program to pack consecutive duplicates of a given list elements into sublists.\n",
        "\n",
        " Original list:\n",
        "\n",
        " **[0, 0, 1, 2, 3, 4, 4, 5, 6, 6, 6, 7, 8, 9, 4, 4]**\n",
        "\n",
        " After packing consecutive duplicates of the said list elements into sublists:\n",
        "\n",
        " **[[0, 0], [1], [2], [3], [4, 4], [5], [6, 6, 6], [7], [8], [9], [4, 4]]**"
      ],
      "metadata": {
        "id": "QsIqCWshxRb8"
      }
    },
    {
      "cell_type": "code",
      "source": [
        "# Write your code here\n",
        "lst = [0,0,1,2,3,4,4,5,6,6,6,7,8,9,4,4,1]\n",
        "r_lst = []\n",
        "tmp = []\n",
        "var = lst[0]\n",
        "for i in lst:\n",
        "  if(var == i):\n",
        "    tmp.append(i)\n",
        "  else:\n",
        "    r_lst.append(tmp)\n",
        "    tmp = []\n",
        "    tmp.append(i)\n",
        "    var = i\n",
        "\n",
        "r_lst.append(tmp)\n",
        "print(r_lst)"
      ],
      "metadata": {
        "id": "LIL62Yzwsj1B",
        "colab": {
          "base_uri": "https://localhost:8080/"
        },
        "outputId": "eb17b3dc-9793-4c94-a27c-b88612e274a9"
      },
      "execution_count": null,
      "outputs": [
        {
          "output_type": "stream",
          "name": "stdout",
          "text": [
            "[[0, 0], [1], [2], [3], [4, 4], [5], [6, 6, 6], [7], [8], [9], [4, 4], [1]]\n"
          ]
        }
      ]
    },
    {
      "cell_type": "markdown",
      "source": [
        "22. Write a Python program to split a given list into two parts where the length of the first part of the list will be user input.\n",
        "\n",
        "  Original list:\n",
        "  \n",
        "  **[1, 1, 2, 3, 4, 4, 5, 1]**\n",
        "  \n",
        "  **Length of the first part of the list: 3**\n",
        "  \n",
        "  **Splited the given list into two parts:**\n",
        "\n",
        "  **[1, 1, 2] & [3, 4, 4, 5, 1]**"
      ],
      "metadata": {
        "id": "puphXtpZyko4"
      }
    },
    {
      "cell_type": "code",
      "source": [
        "lst1 = [1,1,2,3,4,4,5,1]\n",
        "print('Original list is: ',lst1)\n",
        "n = int(input(\"Length of the first part of the list: \"))\n",
        "\n",
        "first_half = lst1[:n]\n",
        "sec_half = lst1[n:]\n",
        "print(\"Splited the given list into two parts:\")\n",
        "print(first_half, \"&\", sec_half)"
      ],
      "metadata": {
        "id": "uJPzIYyZsjmJ",
        "colab": {
          "base_uri": "https://localhost:8080/"
        },
        "outputId": "11438b8a-c846-4bda-85eb-77ba0ba9f885"
      },
      "execution_count": null,
      "outputs": [
        {
          "output_type": "stream",
          "name": "stdout",
          "text": [
            "Original list is:  [1, 1, 2, 3, 4, 4, 5, 1]\n",
            "Length of the first part of the list: 3\n",
            "Splited the given list into two parts:\n",
            "[1, 1, 2] & [3, 4, 4, 5, 1]\n"
          ]
        }
      ]
    },
    {
      "cell_type": "markdown",
      "source": [
        "23. Write a Python program to extract a given number of randomly selected elements from a given list.\n",
        "\n",
        " Sample list: **[1, 1, 2, 3, 4, 4, 5, 1]**\n",
        "\n",
        " Selected **3** random numbers of the above list: **[2, 4, 1]**"
      ],
      "metadata": {
        "id": "a8KaqYSIzByb"
      }
    },
    {
      "cell_type": "code",
      "source": [
        "import random\n",
        "def nums(list, n):\n",
        "  return random.sample(list, n)\n",
        "\n",
        "list = [1,1,2,3,4,4,5,1]\n",
        "print(\"Original list: \",list)\n",
        "num = 3\n",
        "result = nums(list, num)\n",
        "print(\"Selected 3 random numbers of the above list:\")\n",
        "print(result)"
      ],
      "metadata": {
        "id": "wUWavMbgsjNz"
      },
      "execution_count": null,
      "outputs": []
    },
    {
      "cell_type": "markdown",
      "source": [
        "24. Write a Python program to round every number of a given list of numbers and print the total sum multiplied by the length of the list.\n",
        "\n",
        " Original list: **[22.4, 4.0, -16.22, -9.1, 11.0, -12.22, 14.2, -5.2, 17.5]**\n",
        "\n",
        " Result: **243**"
      ],
      "metadata": {
        "id": "R7FQqrS9zyIt"
      }
    },
    {
      "cell_type": "code",
      "source": [
        "num = [22.4, 4.0, -16.22, -9.1, 11.0, -12.22, 14.2, -5.2, 17.5]\n",
        "print(\"Original list: \", num)\n",
        "a = len(num)\n",
        "x = (sum(list(map(round,num))* a))\n",
        "print(\"Result: \", x)"
      ],
      "metadata": {
        "id": "M8KBEAcwsitk"
      },
      "execution_count": null,
      "outputs": []
    },
    {
      "cell_type": "markdown",
      "source": [
        "25. Write a python program which take the number of rows of a square matrix from the user as input then create the matrix using nested list. Now convert the matrix into an upper triangular matrix.\n",
        "\n",
        " Input:\n",
        "\n",
        " Enter the size of the matrix: 3\n",
        "  \n",
        "  2 3 4\n",
        "  \n",
        "  4 5 6\n",
        "  \n",
        "  3 4 7\n",
        "\n",
        " Output:\n",
        "\n",
        " Upper triangular matrix:\n",
        "  \n",
        "  2 3 4\n",
        "  \n",
        "  0 5 6\n",
        "  \n",
        "  0 0 7\n",
        "\n",
        " [*note: this is not the real upper triangular matrix of the given matrix]"
      ],
      "metadata": {
        "id": "lGI5Q1lv0HIr"
      }
    },
    {
      "cell_type": "code",
      "source": [
        "# Write your code here\n",
        "lst =[[2,3,4],[4,5,6],[3,4,7]]\n",
        "\n",
        "for i in range(len(lst)):\n",
        "  for j in range(i):\n",
        "    lst[i][j] = 0\n",
        "\n",
        "for i in lst:\n",
        "  print(i)\n"
      ],
      "metadata": {
        "id": "P8j5n3ve0FJk",
        "colab": {
          "base_uri": "https://localhost:8080/"
        },
        "outputId": "2885cba8-f66b-4b06-f5ba-ce19a78259a2"
      },
      "execution_count": null,
      "outputs": [
        {
          "output_type": "stream",
          "name": "stdout",
          "text": [
            "[2, 3, 4]\n",
            "[0, 5, 6]\n",
            "[0, 0, 7]\n"
          ]
        }
      ]
    },
    {
      "cell_type": "markdown",
      "source": [
        "26. Write a Python program to check if a nested list is a subset of another nested list.\n",
        "\n",
        " Sample lists:\n",
        "\n",
        " **[[1, 3], [5, 7], [9, 11], [13, 15, 17]]**\n",
        "\n",
        " **[[1, 3], [13, 15, 17]]**\n",
        "\n",
        " **If the one of the said list is a subset of another? True**\n",
        "\n",
        "  Sample lists:\n",
        "\n",
        " **[[[1, 2], [2, 3]], [[3, 4], [5, 7]]]**\n",
        "\n",
        " **[[[3, 4], [5, 6]]]**\n",
        "\n",
        " **If the one of the said list is a subset of another? False**"
      ],
      "metadata": {
        "id": "jHtX3JBK2c1K"
      }
    },
    {
      "cell_type": "code",
      "source": [
        "# Write your code here\n",
        "set1 =[[2,3,4],[4,5,6],[3,4,7]]\n",
        "set2 =[[4,5,6],[3,4,7]]\n",
        "flag = False\n",
        "for j in set2:\n",
        "  if j not in set1:\n",
        "    flag = True\n",
        "    print(\"False\")\n",
        "    break\n",
        "\n",
        "if(flag==False):\n",
        "  print(\"True\")\n"
      ],
      "metadata": {
        "id": "efaA8P-90Euu",
        "colab": {
          "base_uri": "https://localhost:8080/"
        },
        "outputId": "fdce602e-0def-498a-b88a-72d6c56d4602"
      },
      "execution_count": null,
      "outputs": [
        {
          "output_type": "stream",
          "name": "stdout",
          "text": [
            "True\n"
          ]
        }
      ]
    },
    {
      "cell_type": "markdown",
      "source": [
        "27. Write a Python program to sort a given mixed list of integers and strings. Numbers must be sorted before strings.\n",
        "\n",
        " Sample list:\n",
        " **[19, 'red', 12, 'green', 'blue', 10, 'white', 'green', 1]**\n",
        "\n",
        " Sort the said mixed list of integers and strings:\n",
        " **[1, 10, 12, 19, 'blue', 'green', 'green', 'red', 'white']**"
      ],
      "metadata": {
        "id": "wkw4Pyv63VSb"
      }
    },
    {
      "cell_type": "code",
      "source": [
        "# Write your code here\n",
        "lst = [19, 'red', 12, 'green', 'blue', 10, 'white', 'green', 1]\n",
        "num_lst = []\n",
        "str_lst = []\n",
        "\n",
        "for i in lst:\n",
        "  if isinstance(i, int):\n",
        "    num_lst.append(i)\n",
        "  else:\n",
        "    str_lst.append(i)\n",
        "\n",
        "num_lst.sort()\n",
        "str_lst.sort()\n",
        "\n",
        "print(num_lst)\n",
        "print(str_lst)\n",
        "\n",
        "print(num_lst+str_lst)"
      ],
      "metadata": {
        "id": "hTHQPJz10Egc",
        "colab": {
          "base_uri": "https://localhost:8080/"
        },
        "outputId": "bdbdd73f-6523-47b6-bf3a-e6ed638322a2"
      },
      "execution_count": null,
      "outputs": [
        {
          "output_type": "stream",
          "name": "stdout",
          "text": [
            "[1, 10, 12, 19]\n",
            "['blue', 'green', 'green', 'red', 'white']\n",
            "[1, 10, 12, 19, 'blue', 'green', 'green', 'red', 'white']\n"
          ]
        }
      ]
    },
    {
      "cell_type": "markdown",
      "source": [
        "28. Write a python program which take a 3*3 square matrix from the user as input using nested list. The unique elements of the nested list are \"O\" and \"X\" like tic-tac-toe game. Now find the result for the user given matrix using the rules of tic-tac-toe game.\n",
        "\n",
        " Case 1:\n",
        "\n",
        " O X X\n",
        "\n",
        " O O O\n",
        "\n",
        " X X O\n",
        "\n",
        " Result: Player(O) winner\n",
        "\n",
        " Case 2:\n",
        "\n",
        " X X O\n",
        "\n",
        " O O X\n",
        "\n",
        " X X O\n",
        "\n",
        " Result: Tie\n",
        "\n",
        " Case 3:\n",
        "\n",
        " O X O\n",
        "\n",
        " O O X\n",
        "\n",
        " X X O\n",
        "\n",
        " Result: Player(O) winner"
      ],
      "metadata": {
        "id": "KcYfcqcu4Ozg"
      }
    },
    {
      "cell_type": "code",
      "source": [
        "# Write your code here\n",
        "lst = [['O',\"O\",'X'],['X',\"X\",'O'],['X',\"X\",'O']]\n",
        "for i in lst:\n",
        "  print(i)\n",
        "\n",
        "zero = ['O','O','O']\n",
        "x = ['X','X','X']\n",
        "\n",
        "for i in lst:\n",
        "  if i == zero:\n",
        "    print(\"Winner: Player(O)\")\n",
        "  elif i == x:\n",
        "    print(\"Winner: Player(X)\")\n",
        "\n",
        "# for primary diagonal\n",
        "flag_zero = True\n",
        "flag_x = True\n",
        "for i in range(len(lst)):\n",
        "  if(lst[i][i]!='O'):\n",
        "    flag_zero = False\n",
        "\n",
        "  if(lst[i][i]!='X'):\n",
        "    flag_x = False\n",
        "\n",
        "if(flag_zero == True):\n",
        "  print(\"Winner: Player(O)\")\n",
        "\n",
        "if(flag_x == True):\n",
        "  print(\"Winner: Player(X)\")\n",
        "\n",
        "# # for secondary diagonal\n",
        "# flag_zero = True\n",
        "# flag_x = True\n",
        "# for i in range(len(lst)):\n",
        "#   if(lst[i][i*(-1)-1]!='O'):\n",
        "#     flag_zero = False\n",
        "\n",
        "#   if(lst[i][i*(-1)-1]!='X'):\n",
        "#     flag_zero = False\n",
        "\n",
        "# if(flag_zero == True):\n",
        "#   print(\"Winner: Player(O)\")\n",
        "\n",
        "# if(flag_x == True):\n",
        "#   print(\"Winner: Player(X)\")\n",
        "\n"
      ],
      "metadata": {
        "id": "AY_kkuwZ0EJd",
        "colab": {
          "base_uri": "https://localhost:8080/"
        },
        "outputId": "482ba21f-4154-4048-a517-33b08cc33900"
      },
      "execution_count": null,
      "outputs": [
        {
          "output_type": "stream",
          "name": "stdout",
          "text": [
            "['X', 'O', 'X']\n",
            "['X', 'X', 'O']\n",
            "['X', 'X', 'O']\n"
          ]
        }
      ]
    },
    {
      "cell_type": "markdown",
      "source": [
        "29. Write a python program which take the number of rows(2 or 3) of a square matrix from the user as input then create the matrix using nested list. Now find the determinant of the matrix without using Numpy or Scipy and print it.\n",
        "\n",
        " **Algorithm:**\n",
        "\n",
        " [Math is fun](https://www.mathsisfun.com/algebra/matrix-determinant.html)\n",
        "\n",
        " [Isn't it?](https://byjus.com/maths/determinant-of-a-3x3-matrix/)\n",
        "\n",
        " [Okay bye bye](https://integratedmlai.com/find-the-determinant-of-a-matrix-with-pure-python-without-numpy-or-scipy/)\n",
        "\n",
        " Input:\n",
        "\n",
        " Enter the size of the matrix: 3\n",
        "\n",
        " 2 -3  9\n",
        "\n",
        " 2  0 -1\n",
        "\n",
        " 1 4 5\n",
        "\n",
        " Output: 49"
      ],
      "metadata": {
        "id": "wSXJHsny8CSq"
      }
    },
    {
      "cell_type": "code",
      "source": [
        "def FindDeterminant(matrix, col_num, n):\n",
        "  mul = []\n",
        "  for i in range(n):\n",
        "    for j in range(n):\n",
        "      if(i == 0 or j == col_num):\n",
        "        continue\n",
        "      else:\n",
        "        mul.append(matrix[i][j])\n",
        "  #print(\"Determinant list\", mul)\n",
        "  #print(\"The culprit\", matrix[0][col_num])\n",
        "  deter  = matrix[0][col_num]*(mul[0]*mul[3] - mul[2]*mul[1])\n",
        "  #print(\"The partial answer=\", deter)\n",
        "  return deter\n",
        "\n",
        "n = int(input(\"Enter number of rows of square matrix:\"))\n",
        "\n",
        "mat = []\n",
        "#Taking input in n x n matrix\n",
        "for i in range(n):\n",
        "  row = []\n",
        "  for j in range(n):\n",
        "    print(f\"Enter value at {i},{j}\")\n",
        "    row.append(float(input()))\n",
        "  mat.append(row)\n",
        "\n",
        "res = []\n",
        "for col in range(n):\n",
        "  res.append(FindDeterminant(mat,col, n))\n",
        "\n",
        "print(\"Determinant of given matrix = \", res.sum())\n"
      ],
      "metadata": {
        "id": "BamVe7gp0Dcs",
        "colab": {
          "base_uri": "https://localhost:8080/"
        },
        "outputId": "c87be9c4-ac28-4014-d03d-1f0816e87bb7"
      },
      "execution_count": null,
      "outputs": [
        {
          "output_type": "stream",
          "name": "stdout",
          "text": [
            "Enter number of rows of square matrix:3\n",
            "Enter value at 0,0\n",
            "2\n",
            "Enter value at 0,1\n",
            "0\n",
            "Enter value at 0,2\n",
            "4\n",
            "Enter value at 1,0\n",
            "-3\n",
            "Enter value at 1,1\n",
            "5\n",
            "Enter value at 1,2\n",
            "5\n",
            "Enter value at 2,0\n",
            "1\n",
            "Enter value at 2,1\n",
            "8\n",
            "Enter value at 2,2\n",
            "9\n",
            "Determinant list [5.0, 5.0, 8.0, 9.0]\n",
            "The culprit 2.0\n",
            "The partial answer= 10.0\n",
            "Determinant list [-3.0, 5.0, 1.0, 9.0]\n",
            "The culprit 0.0\n",
            "The partial answer= -0.0\n",
            "Determinant list [-3.0, 5.0, 1.0, 8.0]\n",
            "The culprit 4.0\n",
            "The partial answer= -116.0\n"
          ]
        }
      ]
    },
    {
      "cell_type": "markdown",
      "source": [
        "30. Write a function named **flip_half** that reverses the order of half of the elements of a list of integers passed as a parameter. Your function should reverse the order of all the elements in odd-numbered positions (position 1, 3, 5, etc.) assuming that the first value in the list has position 0. For example, if the list originally stores this sequence of numbers when the function is called:\n",
        "\n",
        "   Sample list: [1, 8, 7, 2, 9, 18, 12, 0]\n",
        "\n",
        " Then it should store the following values after the function finishes executing:\n",
        "\n",
        " [1, 0, 7, 18, 9, 2, 12, 8]"
      ],
      "metadata": {
        "id": "B4c-sxBd8Qh8"
      }
    },
    {
      "cell_type": "code",
      "source": [
        "# Write your code here\n",
        "lst =  [1, 8, 7, 2, 9, 18, 12, 0]\n",
        "even_ind = []\n",
        "odd_ind = []\n",
        "\n",
        "for i in range(len(lst)):\n",
        "  if(i%2 == 0):\n",
        "    even_ind.append(lst[i])\n",
        "  else:\n",
        "    odd_ind.append(lst[i])\n",
        "\n",
        "odd_ind.reverse() # [2,8]\n",
        "lst_tmp =[]\n",
        "\n",
        "print(\"Elements of even index: \",even_ind)\n",
        "print(\"Elements of odd index: \",odd_ind)\n",
        "\n",
        "n=0\n",
        "if(len(even_ind) > len(odd_ind)):\n",
        "  n = len(even_ind)\n",
        "else:\n",
        "  n = len(odd_ind)\n",
        "\n",
        "for i in range(n):\n",
        "  if(i<len(even_ind)):\n",
        "    lst_tmp.append(even_ind[i])\n",
        "\n",
        "  if(i<len(odd_ind)):\n",
        "    lst_tmp.append(odd_ind[i])\n",
        "\n",
        "\n",
        "print(lst_tmp)"
      ],
      "metadata": {
        "id": "--loAYbs8RCD",
        "colab": {
          "base_uri": "https://localhost:8080/"
        },
        "outputId": "6fe333bb-7cb1-4276-ba7c-f9468ec3a96a"
      },
      "execution_count": null,
      "outputs": [
        {
          "output_type": "stream",
          "name": "stdout",
          "text": [
            "Elements of even index:  [1, 7, 9, 12]\n",
            "Elements of odd index:  [0, 18, 2, 8]\n",
            "[1, 0, 7, 18, 9, 2, 12, 8]\n"
          ]
        }
      ]
    },
    {
      "cell_type": "markdown",
      "source": [
        "31. Write a function named **double_list** that takes a list of strings as a parameter and that replaces every string with two of that string. For example, if the list stores the values [\"how\", \"are\", \"you?\"] before the function is called, it should store the values [\"how\", \"how\", \"are\", \"are\", \"you?\", \"you?\"] after the function finishes executing."
      ],
      "metadata": {
        "id": "_2FQt_--Ckdg"
      }
    },
    {
      "cell_type": "code",
      "source": [
        "def double_list(a):\n",
        "    b = []\n",
        "    for i in a:\n",
        "        b.append(i)\n",
        "        b.append(i)\n",
        "    return b\n",
        "a=[\"how\", \"are\", \"you?\"]\n",
        "print(double_list(a))"
      ],
      "metadata": {
        "id": "R8X3AmQSCxuJ"
      },
      "execution_count": null,
      "outputs": []
    },
    {
      "cell_type": "markdown",
      "source": [
        "32. Write a function named **get_percent_even** that accepts a list of integers as a parameter and returns the percentage of the integers in the list that are even numbers. For example, if a list a stores [6, 4, 9, 11, 5], then your function should return 40.0 representing 40% even numbers. If the list contains no even elements or is empty, return 0.0. Do not modify the list passed in."
      ],
      "metadata": {
        "id": "ViV4f_BVC2XB"
      }
    },
    {
      "cell_type": "code",
      "source": [
        "def get_percent_even(numbers):\n",
        "    even = 0\n",
        "    for i in numbers:\n",
        "        if i % 2 == 0:\n",
        "            even += 1\n",
        "    return even / len(numbers) * 100\n",
        "\n",
        "num=[6, 4, 9, 11, 5]\n",
        "print(get_percent_even(num))"
      ],
      "metadata": {
        "id": "D2zFRKWaC1ji"
      },
      "execution_count": null,
      "outputs": []
    },
    {
      "cell_type": "markdown",
      "source": [
        "33. Write a function named **all_less** that accepts two lists of integers and returns True if each element in the first list is less than the element at the same index in the second list. Your function should return false if the lists are not the same length. For example, if the two lists passed are [45, 20, 300] and [50, 41, 600], your function should return **True**. If the lists are not the same length, you should always return **False**."
      ],
      "metadata": {
        "id": "l4P96_83DTXL"
      }
    },
    {
      "cell_type": "code",
      "source": [
        "# Write your code here\n",
        "\n",
        "def all_less(l1,l2):\n",
        "  if(len(l1) != len(l2)):\n",
        "    return False\n",
        "\n",
        "  for i in range(len(l1)):\n",
        "    if(l1[i] > l2[i]):\n",
        "      return False\n",
        "  return True\n",
        "\n",
        "l1 = [45,20,300]\n",
        "l2 = [50,41,100]\n",
        "\n",
        "print(all_less(l1,l2))"
      ],
      "metadata": {
        "id": "TefJMAP2C1Pk",
        "colab": {
          "base_uri": "https://localhost:8080/"
        },
        "outputId": "6895698c-bbee-4cf7-f5e0-bc331389b665"
      },
      "execution_count": null,
      "outputs": [
        {
          "output_type": "stream",
          "name": "stdout",
          "text": [
            "False\n"
          ]
        }
      ]
    },
    {
      "cell_type": "markdown",
      "source": [
        "34. Write a function **min_to_front** that takes a list of integers as a parameter and that moves the minimum value in the list to the front, otherwise preserving the order of the elements. For example, if a variable called list stores the following values: [3, 8, 92, 4, 2, 17, 9] and you make the call of min_to_front(list) it should store the following values after the call: [2, 3, 8, 92, 4, 17, 9] You may assume that the list stores at least one value."
      ],
      "metadata": {
        "id": "226UIoFLDh-p"
      }
    },
    {
      "cell_type": "code",
      "source": [
        "# Write your code here\n",
        "lst= [11,12,13,14,1,2,3,4,5]\n",
        "lst1=[]\n",
        "minimum = min(lst)\n",
        "lst1.append(minimum)\n",
        "lst.remove(minimum)\n",
        "lst1 = lst1+lst\n",
        "print(lst1)\n",
        "\n"
      ],
      "metadata": {
        "id": "kDLeuRg_C04K"
      },
      "execution_count": null,
      "outputs": []
    },
    {
      "cell_type": "markdown",
      "source": [
        "35. Write a function named **is_magic_square** that accepts a two-dimensional list of integers as a parameter and returns True if it is a magic square. A square matrix is a magic square if it is square in shape (same number of rows as columns, and every row the same length), and all of its row, column, and diagonal sums are equal. For example, [[2, 7, 6], [9, 5, 1], [4, 3, 8]] is a magic square because all eight of the sums are exactly 15."
      ],
      "metadata": {
        "id": "jG2q1Nr6Dvhx"
      }
    },
    {
      "cell_type": "code",
      "source": [
        "# Write your code here\n",
        "def is_magic_square(lst):\n",
        "    if(len(lst) != len(lst[0])):\n",
        "        return False\n",
        "    Sum = sum(lst[0])\n",
        "\n",
        "#check the rows\n",
        "    for i in lst:\n",
        "        if(Sum != sum(i)):\n",
        "            return False\n",
        "\n",
        "#check the cols\n",
        "    for i in range(len(lst)):\n",
        "        s = 0\n",
        "        for j in range(len(lst)):\n",
        "            s = s+lst[j][i]\n",
        "        if(s != Sum):\n",
        "            return False\n",
        "\n",
        "#check the primary diagonal\n",
        "    s = 0\n",
        "    for i in range(len(lst)):\n",
        "        s = s+lst[i][i]\n",
        "    if(s != Sum):\n",
        "        return False\n",
        "\n",
        "#check the secondary diagonal\n",
        "    s = 0\n",
        "    for i in range(len(lst)):\n",
        "        s = s+lst[i][i*(-1)-1]\n",
        "    if(s != Sum):\n",
        "        return False\n",
        "\n",
        "# otherwise true\n",
        "    return True\n",
        "\n",
        "lst =  [[2, 7, 6], [9, 5, 1], [4, 3, 8]]\n",
        "print(is_magic_square(lst))"
      ],
      "metadata": {
        "id": "tyTHpGzuC0e0",
        "colab": {
          "base_uri": "https://localhost:8080/"
        },
        "outputId": "ce5a1e8f-d81d-4d4b-9603-52045a377500"
      },
      "execution_count": null,
      "outputs": [
        {
          "output_type": "stream",
          "name": "stdout",
          "text": [
            "True\n"
          ]
        }
      ]
    }
  ]
}