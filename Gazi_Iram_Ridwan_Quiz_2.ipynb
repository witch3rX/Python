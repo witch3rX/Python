{
  "nbformat": 4,
  "nbformat_minor": 0,
  "metadata": {
    "colab": {
      "provenance": [],
      "include_colab_link": true
    },
    "kernelspec": {
      "name": "python3",
      "display_name": "Python 3"
    },
    "language_info": {
      "name": "python"
    }
  },
  "cells": [
    {
      "cell_type": "markdown",
      "metadata": {
        "id": "view-in-github",
        "colab_type": "text"
      },
      "source": [
        "<a href=\"https://colab.research.google.com/github/witch3rX/Python/blob/main/Gazi_Iram_Ridwan_Quiz_2.ipynb\" target=\"_parent\"><img src=\"https://colab.research.google.com/assets/colab-badge.svg\" alt=\"Open In Colab\"/></a>"
      ]
    },
    {
      "cell_type": "markdown",
      "source": [
        "**Name**: Gazi Iram Ridwan\n",
        "\n",
        "**ID**: 2222333\n",
        "\n",
        "**Section**: 6\n",
        "\n",
        "\n",
        "---\n",
        "\n"
      ],
      "metadata": {
        "id": "BLUcIPSmaBsH"
      }
    },
    {
      "cell_type": "markdown",
      "source": [
        "#Instructions\n",
        "* Write your solution in this file submit it in the google classroom under Quiz # 02 heading. You should write and run the code right in that colab file.\n",
        "* You should do your own work. Copying from friends/website or any other sources is prohibited, and if caught then you will be awarded with zero marks.\n",
        "* Add as many cells as you want but do not delete any cell.\n",
        "\n",
        "Enjoy Coding!"
      ],
      "metadata": {
        "id": "1vKLitdjFWJB"
      }
    },
    {
      "cell_type": "markdown",
      "source": [
        "## Question # 1:\n",
        "**[1 point]** Write the condition within the if statement so that the mentioned output is generated.\n",
        "\n",
        "**Expected Output**\n",
        "\n",
        " 4 0\n",
        "\n",
        " 3 1"
      ],
      "metadata": {
        "id": "ROxHKByqFzMt"
      }
    },
    {
      "cell_type": "code",
      "execution_count": null,
      "metadata": {
        "colab": {
          "base_uri": "https://localhost:8080/"
        },
        "id": "k9NYL1vBFSIQ",
        "outputId": "bf3878ad-a6e5-41f5-f49d-7acd376ee21c"
      },
      "outputs": [
        {
          "output_type": "stream",
          "name": "stdout",
          "text": [
            "\n",
            " 4 0\n",
            "\n",
            " 3 1\n"
          ]
        }
      ],
      "source": [
        "x = 4\n",
        "y = 0\n",
        "\n",
        "while x >= 0:\n",
        "    if y >= 2 and x == 2:\n",
        "        break\n",
        "    else:\n",
        "        print(f\"\\n {x} {y}\")\n",
        "    x -= 1\n",
        "    y += 1\n"
      ]
    },
    {
      "cell_type": "markdown",
      "source": [
        "## Question # 2\n",
        "**[1 point]** The program written below doesn't work. Change the program so that it print numbers from 1 to 49"
      ],
      "metadata": {
        "id": "RJiWh-yKImW9"
      }
    },
    {
      "cell_type": "code",
      "source": [
        "x = 0\n",
        "y = 100\n",
        "while x >= 0:\n",
        "    x += 1\n",
        "    y -= 1\n",
        "\n",
        "    if x == y:\n",
        "        break\n",
        "    print(f\"{x} \", end=\" \")"
      ],
      "metadata": {
        "colab": {
          "base_uri": "https://localhost:8080/"
        },
        "id": "X5SImpeyIvkz",
        "outputId": "fb94f41f-e2db-4b95-8b68-4a3d4bc510a8"
      },
      "execution_count": null,
      "outputs": [
        {
          "output_type": "stream",
          "name": "stdout",
          "text": [
            "1  2  3  4  5  6  7  8  9  10  11  12  13  14  15  16  17  18  19  20  21  22  23  24  25  26  27  28  29  30  31  32  33  34  35  36  37  38  39  40  41  42  43  44  45  46  47  48  49  "
          ]
        }
      ]
    },
    {
      "cell_type": "markdown",
      "source": [
        "## Question # 3\n",
        "**[5 points]** Write a program which will solve an equation with three variables. The equation to be solved is: \\\\\n",
        "$ 13x + 0.5y - (9/17)z - 2$ \\\\\n",
        "\n",
        "You have to find the values of x, y and z such that the above equation becomes zero. Take as input the start and end of the search space and call a function ** def solution(range_start, range_end) ** which will find and print all the values of x, y and z within that search space which makes the above equation as zero. If there is no solution possible within that space then simply print \"No solution found within specified range\". For example, there is no value of x, y and z from 1 to 10 which can solve the above equation.\n"
      ],
      "metadata": {
        "id": "NOXhNnxuOAoI"
      }
    },
    {
      "cell_type": "code",
      "source": [
        "flag=0\n",
        "\n",
        "def solution(start, end):\n",
        "  for x in range(start,end):\n",
        "    for y in range(start,end):\n",
        "      for z in range(start,end):\n",
        "        if((13*x+0.5*y+(9/17)*z-2)==0):\n",
        "          print(\"x: \",x,\"y: \",y,\"z: \",z)\n",
        "          flag=1\n",
        "\n",
        "start = (int)(input(\"Enter a start of point:  \"))\n",
        "end = (int)(input(\"Enter a end of point:  \"))\n",
        "\n",
        "solution(start, end)\n",
        "\n",
        "if(flag==0):\n",
        "  print(\"no solution found\")"
      ],
      "metadata": {
        "id": "YL-9T7i2WnLQ",
        "colab": {
          "base_uri": "https://localhost:8080/"
        },
        "outputId": "74d7f8ae-685a-4779-b9bc-563aa214895f"
      },
      "execution_count": null,
      "outputs": [
        {
          "output_type": "stream",
          "name": "stdout",
          "text": [
            "Enter a start of point:  2\n",
            "Enter a end of point:  5\n",
            "no solution found\n"
          ]
        }
      ]
    },
    {
      "cell_type": "markdown",
      "source": [
        "## Question # 4\n",
        "**[3 points]** Improve the code of Question # 3 so that it count and print the number of solutions found within the specified range. If no solution found for the given range then the count should be 0."
      ],
      "metadata": {
        "id": "QWTCVR03W8_p"
      }
    },
    {
      "cell_type": "code",
      "source": [
        "# write your code here"
      ],
      "metadata": {
        "id": "dlRS2i46XeWn"
      },
      "execution_count": null,
      "outputs": []
    }
  ]
}