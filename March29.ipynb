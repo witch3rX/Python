{
  "nbformat": 4,
  "nbformat_minor": 0,
  "metadata": {
    "colab": {
      "provenance": [],
      "include_colab_link": true
    },
    "kernelspec": {
      "name": "python3",
      "display_name": "Python 3"
    },
    "language_info": {
      "name": "python"
    }
  },
  "cells": [
    {
      "cell_type": "markdown",
      "metadata": {
        "id": "view-in-github",
        "colab_type": "text"
      },
      "source": [
        "<a href=\"https://colab.research.google.com/github/witch3rX/Python/blob/main/March29.ipynb\" target=\"_parent\"><img src=\"https://colab.research.google.com/assets/colab-badge.svg\" alt=\"Open In Colab\"/></a>"
      ]
    },
    {
      "cell_type": "code",
      "execution_count": null,
      "metadata": {
        "colab": {
          "base_uri": "https://localhost:8080/"
        },
        "id": "Nv4Nvt4y7GCJ",
        "outputId": "02c7e07b-173e-4787-8bb6-c107db9e21a4"
      },
      "outputs": [
        {
          "output_type": "stream",
          "name": "stdout",
          "text": [
            "{'CSE101': 4, 'CSE203': 4, 'CSE211': 4, 'ENG101': 3}\n"
          ]
        }
      ],
      "source": [
        "d = dict()\n",
        "\n",
        "d['CSE101'] = 4\n",
        "d['CSE203'] = 4\n",
        "d['CSE211'] = 4\n",
        "d['ENG101'] = 3\n",
        "\n",
        "print(d)"
      ]
    },
    {
      "cell_type": "code",
      "source": [
        "sum = 0\n",
        "for k in d:\n",
        "  sum = sum + d[k]\n",
        "\n",
        "print(sum)"
      ],
      "metadata": {
        "colab": {
          "base_uri": "https://localhost:8080/"
        },
        "id": "f4L-Um0_9GEz",
        "outputId": "10c699c2-b729-4250-8bc2-79b0d77341af"
      },
      "execution_count": null,
      "outputs": [
        {
          "output_type": "stream",
          "name": "stdout",
          "text": [
            "15\n"
          ]
        }
      ]
    },
    {
      "cell_type": "code",
      "source": [
        "d['CSE101'] = 'Scratch'\n",
        "print(d)"
      ],
      "metadata": {
        "colab": {
          "base_uri": "https://localhost:8080/"
        },
        "id": "dfwNgoAL7sh6",
        "outputId": "fb37146e-94cc-4aa4-e379-3374ba6a834a"
      },
      "execution_count": null,
      "outputs": [
        {
          "output_type": "stream",
          "name": "stdout",
          "text": [
            "{'CSE101': 'Scratch', 'CSE203': 'C++', 'CSE211': 'Any language'}\n"
          ]
        }
      ]
    },
    {
      "cell_type": "code",
      "source": [
        "if('CSE311' in d):\n",
        "  print(\"My life is a hell\")\n",
        "else:\n",
        "  print(\"Peace\")\n",
        "\n",
        "# Alternatively, we can always run a loop\n",
        "found = False\n",
        "for k in d:\n",
        "  if(k == 'CSE311'):\n",
        "    found = True\n",
        "    print(\"My life is a hell\")\n",
        "\n",
        "if(not found):\n",
        "  print(\"Peace\")"
      ],
      "metadata": {
        "colab": {
          "base_uri": "https://localhost:8080/"
        },
        "id": "CkpUIlkV-Pj7",
        "outputId": "df3c46f3-f4ee-4dae-89a6-5a31284d1611"
      },
      "execution_count": null,
      "outputs": [
        {
          "output_type": "stream",
          "name": "stdout",
          "text": [
            "Peace\n",
            "Peace\n"
          ]
        }
      ]
    },
    {
      "cell_type": "code",
      "source": [
        "from random import seed, randint\n",
        "my_list = []\n",
        "for i in range(100):\n",
        "  seed(i)\n",
        "  my_list.append(randint(1,100))\n",
        "\n",
        "print(my_list, end=\",\")\n",
        "\n",
        "freqtbl = {}\n",
        "\n",
        "for val in my_list:\n",
        "  if(val in freqtbl):\n",
        "    continue\n",
        "  else:\n",
        "    freqtbl[val] = my_list.count(val)\n",
        "\n",
        "print(\"\\n\")\n",
        "print(freqtbl)"
      ],
      "metadata": {
        "colab": {
          "base_uri": "https://localhost:8080/"
        },
        "id": "Wds9jc-4Bed0",
        "outputId": "86db1680-c395-4924-fdba-7fb44a70a5e8"
      },
      "execution_count": null,
      "outputs": [
        {
          "output_type": "stream",
          "name": "stdout",
          "text": [
            "[50, 18, 8, 31, 31, 80, 74, 42, 30, 60, 74, 58, 61, 34, 14, 27, 47, 67, 24, 87, 93, 22, 18, 100, 92, 49, 96, 84, 15, 71, 70, 2, 10, 74, 68, 71, 43, 88, 82, 27, 59, 49, 82, 5, 53, 35, 10, 46, 71, 9, 64, 32, 35, 79, 18, 12, 72, 6, 75, 29, 40, 64, 74, 57, 61, 54, 10, 10, 95, 88, 16, 42, 10, 36, 79, 58, 48, 33, 25, 19, 35, 65, 19, 64, 94, 26, 100, 19, 51, 11, 27, 11, 54, 64, 70, 98, 48, 25, 46, 52],\n",
            "\n",
            "{50: 1, 18: 3, 8: 1, 31: 2, 80: 1, 74: 4, 42: 2, 30: 1, 60: 1, 58: 2, 61: 2, 34: 1, 14: 1, 27: 3, 47: 1, 67: 1, 24: 1, 87: 1, 93: 1, 22: 1, 100: 2, 92: 1, 49: 2, 96: 1, 84: 1, 15: 1, 71: 3, 70: 2, 2: 1, 10: 5, 68: 1, 43: 1, 88: 2, 82: 2, 59: 1, 5: 1, 53: 1, 35: 3, 46: 2, 9: 1, 64: 4, 32: 1, 79: 2, 12: 1, 72: 1, 6: 1, 75: 1, 29: 1, 40: 1, 57: 1, 54: 2, 95: 1, 16: 1, 36: 1, 48: 2, 33: 1, 25: 2, 19: 3, 65: 1, 94: 1, 26: 1, 51: 1, 11: 2, 98: 1, 52: 1}\n"
          ]
        }
      ]
    },
    {
      "cell_type": "code",
      "source": [
        "dir(d)"
      ],
      "metadata": {
        "colab": {
          "base_uri": "https://localhost:8080/"
        },
        "id": "tFpvOdcYD8QV",
        "outputId": "9bb8dbd6-27f3-4c40-8345-2f7fe83b1ff2"
      },
      "execution_count": null,
      "outputs": [
        {
          "output_type": "execute_result",
          "data": {
            "text/plain": [
              "['__class__',\n",
              " '__contains__',\n",
              " '__delattr__',\n",
              " '__delitem__',\n",
              " '__dir__',\n",
              " '__doc__',\n",
              " '__eq__',\n",
              " '__format__',\n",
              " '__ge__',\n",
              " '__getattribute__',\n",
              " '__getitem__',\n",
              " '__gt__',\n",
              " '__hash__',\n",
              " '__init__',\n",
              " '__init_subclass__',\n",
              " '__iter__',\n",
              " '__le__',\n",
              " '__len__',\n",
              " '__lt__',\n",
              " '__ne__',\n",
              " '__new__',\n",
              " '__reduce__',\n",
              " '__reduce_ex__',\n",
              " '__repr__',\n",
              " '__setattr__',\n",
              " '__setitem__',\n",
              " '__sizeof__',\n",
              " '__str__',\n",
              " '__subclasshook__',\n",
              " 'clear',\n",
              " 'copy',\n",
              " 'fromkeys',\n",
              " 'get',\n",
              " 'items',\n",
              " 'keys',\n",
              " 'pop',\n",
              " 'popitem',\n",
              " 'setdefault',\n",
              " 'update',\n",
              " 'values']"
            ]
          },
          "metadata": {},
          "execution_count": 16
        }
      ]
    },
    {
      "cell_type": "code",
      "source": [
        "d = {1: \"Nazmul\",2:\"Hassin\"}\n",
        "d1 = {2:\"Miss\"}\n",
        "d.update(d1)\n",
        "print(d)\n",
        "d1 = {3: \"Sakib\"}\n",
        "d.update(d1)\n",
        "print(d)"
      ],
      "metadata": {
        "colab": {
          "base_uri": "https://localhost:8080/"
        },
        "id": "beTz1mwKaYen",
        "outputId": "c5729f38-fa82-415e-f146-f674fb8c7be7"
      },
      "execution_count": null,
      "outputs": [
        {
          "output_type": "stream",
          "name": "stdout",
          "text": [
            "{1: 'Nazmul', 2: 'Miss'}\n",
            "{1: 'Nazmul', 2: 'Miss', 3: 'Sakib'}\n"
          ]
        }
      ]
    },
    {
      "cell_type": "code",
      "source": [
        "vowels = {\"a\",\"e\"}\n",
        "vowels2 = [ 'a','e']\n",
        "values = 1\n",
        "values2 = [1]\n",
        "vowels_values = dict.fromkeys(vowels,vowels2)\n",
        "vowels_values2 = dict.fromkeys(vowels2,values2)\n",
        "print(vowels_values)\n",
        "print(vowels_values2)"
      ],
      "metadata": {
        "colab": {
          "base_uri": "https://localhost:8080/"
        },
        "id": "2MIkeAQecXX_",
        "outputId": "71083547-ebb8-4849-c93d-5eb64fc183a0"
      },
      "execution_count": null,
      "outputs": [
        {
          "output_type": "stream",
          "name": "stdout",
          "text": [
            "{'e': ['a', 'e'], 'a': ['a', 'e']}\n",
            "{'a': [1], 'e': [1]}\n"
          ]
        }
      ]
    },
    {
      "cell_type": "code",
      "source": [],
      "metadata": {
        "id": "VuRDWSW7dEn3"
      },
      "execution_count": null,
      "outputs": []
    }
  ]
}