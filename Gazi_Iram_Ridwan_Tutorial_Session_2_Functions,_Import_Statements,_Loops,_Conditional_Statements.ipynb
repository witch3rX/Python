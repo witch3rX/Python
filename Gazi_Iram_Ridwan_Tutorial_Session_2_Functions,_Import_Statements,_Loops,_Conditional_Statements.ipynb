{
  "nbformat": 4,
  "nbformat_minor": 0,
  "metadata": {
    "colab": {
      "provenance": [],
      "collapsed_sections": [
        "G5FXo90bzhNH",
        "AqkpWuwayWos"
      ],
      "include_colab_link": true
    },
    "kernelspec": {
      "name": "python3",
      "display_name": "Python 3"
    },
    "language_info": {
      "name": "python"
    }
  },
  "cells": [
    {
      "cell_type": "markdown",
      "metadata": {
        "id": "view-in-github",
        "colab_type": "text"
      },
      "source": [
        "<a href=\"https://colab.research.google.com/github/witch3rX/Python/blob/main/Gazi_Iram_Ridwan_Tutorial_Session_2_Functions%2C_Import_Statements%2C_Loops%2C_Conditional_Statements.ipynb\" target=\"_parent\"><img src=\"https://colab.research.google.com/assets/colab-badge.svg\" alt=\"Open In Colab\"/></a>"
      ]
    },
    {
      "cell_type": "markdown",
      "source": [
        "## Functions\n",
        "\n",
        "Functions are a way to define blocks of code that can be reused. A function can take zero to any number of arguments (also called input parameters) and may or may not return a result after processing those arguments."
      ],
      "metadata": {
        "id": "5BBMy7s1x9UX"
      }
    },
    {
      "cell_type": "code",
      "execution_count": null,
      "metadata": {
        "id": "-WWIS66qvB7O"
      },
      "outputs": [],
      "source": [
        "# example"
      ]
    },
    {
      "cell_type": "code",
      "source": [
        "# Pizza Problem revisited"
      ],
      "metadata": {
        "id": "W3wKl8FuyZ7p"
      },
      "execution_count": null,
      "outputs": []
    },
    {
      "cell_type": "code",
      "source": [
        "def pizza_problem():\n",
        "    print(\"Pizza Problem\")\n",
        "    print(\"End of the function\")"
      ],
      "metadata": {
        "id": "JBfbCc_AzBxf"
      },
      "execution_count": null,
      "outputs": []
    },
    {
      "cell_type": "code",
      "source": [
        "def pizza_problem(number_of_slices, total_price):\n",
        "  per_slice_price = total_price/number_of_slices\n",
        "  print(\"Price of per slice is: BDT. {:.2f}\".format(per_slice_price))\n",
        "  you_ate = int(input(\"Enter the number of slices you ate:\"))\n",
        "  friend1_ate = int(input(\"Enter the number of slices friend 1 ate: \"))\n",
        "  friend2_ate = int(input(\"Enter the number of slices friend 2 ate: \"))\n",
        "  friend3_ate = int(input(\"Enter the number of slices friend 3 ate: \"))\n",
        "  friend4_ate = int(input(\"Enter the number of slices friend 4 ate: \"))\n",
        "  friend5_ate = int(input(\"Enter the number of slices friend 5 ate: \"))\n",
        "  print(\"Calculating, please wait…\")\n",
        "\n",
        "  you_should_pay = per_slice_price*you_ate\n",
        "  friend1_should_pay = per_slice_price*friend1_ate\n",
        "  friend2_should_pay = per_slice_price*friend2_ate\n",
        "  friend3_should_pay = per_slice_price*friend3_ate\n",
        "  friend4_should_pay = per_slice_price*friend4_ate\n",
        "  friend5_should_pay = per_slice_price*friend5_ate\n",
        "  print(\"You should pay: BDT. {:.2f}\".format(you_should_pay))\n",
        "  print(\"Friend 1 should pay: BDT. {:.2f}\".format(friend1_should_pay))\n",
        "  print(\"Friend 2 should pay: BDT. {:.2f}\".format(friend2_should_pay))\n",
        "  print(\"Friend 3 should pay: BDT. {:.2f}\".format(friend3_should_pay))\n",
        "  print(\"Friend 4 should pay: BDT. {:.2f}\".format(friend4_should_pay))\n",
        "  print(\"Friend 5 should pay: BDT. {:.2f}\".format(friend5_should_pay))"
      ],
      "metadata": {
        "id": "afrzN5yRzA-T"
      },
      "execution_count": null,
      "outputs": []
    },
    {
      "cell_type": "code",
      "source": [
        "def main():\n",
        "  number_of_slices = int(input(\"Enter the number of slices: \"))\n",
        "  total_price = float(input(\"Enter the total price of the pizza: \"))\n",
        "  pizza_problem(number_of_slices, total_price)"
      ],
      "metadata": {
        "id": "72WeEnoHzKCK",
        "cellView": "code"
      },
      "execution_count": null,
      "outputs": []
    },
    {
      "cell_type": "code",
      "source": [
        "main()"
      ],
      "metadata": {
        "colab": {
          "base_uri": "https://localhost:8080/"
        },
        "id": "xJDrAg7Xxsrx",
        "outputId": "7d757251-20a1-4a80-d899-da76cad1d761"
      },
      "execution_count": null,
      "outputs": [
        {
          "output_type": "stream",
          "name": "stdout",
          "text": [
            "Enter the number of slices: 12\n",
            "Enter the total price of the pizza: 550\n",
            "Price of per slice is: BDT. 45.83\n",
            "Enter the number of slices you ate:1\n",
            "Enter the number of slices friend 1 ate: 3\n",
            "Enter the number of slices friend 2 ate: 2\n",
            "Enter the number of slices friend 3 ate: 3\n",
            "Enter the number of slices friend 4 ate: 1\n",
            "Enter the number of slices friend 5 ate: 2\n",
            "Calculating, please wait…\n",
            "You should pay: BDT. 45.83\n",
            "Friend 1 should pay: BDT. 137.50\n",
            "Friend 2 should pay: BDT. 91.67\n",
            "Friend 3 should pay: BDT. 137.50\n",
            "Friend 4 should pay: BDT. 45.83\n",
            "Friend 5 should pay: BDT. 91.67\n"
          ]
        }
      ]
    },
    {
      "cell_type": "code",
      "source": [
        "def sum_excess_10(num1,num2,num5,num3,num4):\n",
        "  result=10\n",
        "  result += num1 + num2 + num3 + num4\n",
        "  return result"
      ],
      "metadata": {
        "id": "dW7QI6dXCm8E"
      },
      "execution_count": null,
      "outputs": []
    },
    {
      "cell_type": "code",
      "source": [
        "sum_excess_10(3,5,4,6,5)"
      ],
      "metadata": {
        "colab": {
          "base_uri": "https://localhost:8080/"
        },
        "id": "d2iCPsrmDpuE",
        "outputId": "0b2c836e-9b81-4453-f75a-ef39db413a29"
      },
      "execution_count": null,
      "outputs": [
        {
          "output_type": "execute_result",
          "data": {
            "text/plain": [
              "29"
            ]
          },
          "metadata": {},
          "execution_count": 11
        }
      ]
    },
    {
      "cell_type": "code",
      "source": [
        "def sum_of_numbers(num1, num2, num3, num4, num5):\n",
        "  result_of_sum = num1+num2+num3+num4+num5\n",
        "  return result_of_sum"
      ],
      "metadata": {
        "id": "JjSOV7ieDprF"
      },
      "execution_count": null,
      "outputs": []
    },
    {
      "cell_type": "code",
      "source": [
        "def sum_of_result(num1, num2, num3, num4, num5):\n",
        "  result = sum_of_numbers(num1, num2, num3, num4, num5)\n",
        "  final_result = sum_of_numbers(result, result, result, result, result)\n",
        "  return final_result"
      ],
      "metadata": {
        "id": "C0sVPV22DpGU"
      },
      "execution_count": null,
      "outputs": []
    },
    {
      "cell_type": "code",
      "source": [
        "sum_of_result(1,1,5,5,2)"
      ],
      "metadata": {
        "colab": {
          "base_uri": "https://localhost:8080/"
        },
        "id": "jH2TKkjsZI2N",
        "outputId": "cd9a2c8f-d007-4bb2-8055-af8080aa7e2a"
      },
      "execution_count": null,
      "outputs": [
        {
          "output_type": "execute_result",
          "data": {
            "text/plain": [
              "70"
            ]
          },
          "metadata": {},
          "execution_count": 49
        }
      ]
    },
    {
      "cell_type": "code",
      "source": [],
      "metadata": {
        "id": "WHAwhVjv-pZ2"
      },
      "execution_count": null,
      "outputs": []
    },
    {
      "cell_type": "code",
      "source": [
        "def get_number():\n",
        "    num = float(input(\"Enter a number: \"))\n",
        "    return num\n"
      ],
      "metadata": {
        "id": "lcGJ0eU4-YR3"
      },
      "execution_count": null,
      "outputs": []
    },
    {
      "cell_type": "code",
      "source": [
        "def compute_number(num1, num2, num3):\n",
        "    avg = (num1 + num2 + num3) / 3\n",
        "    print(\"Average: {:.3f}\".format(avg))\n",
        "    if (num1 > num2) and (num1 > num3):\n",
        "        print(\"Maximum number is:\", num1)\n",
        "    elif (num2 > num1) and (num2 > num3):\n",
        "        print(\"Maximum number is:\", num2)\n",
        "    else:\n",
        "        print(\"Maximum number is:\", num3)\n",
        "    if (num1 < num2) and (num1 < num3):\n",
        "        print(\"Minimum number is:\", num1)\n",
        "    elif (num2 < num1) and (num2 < num3):\n",
        "        print(\"Minimum number is:\", num2)\n",
        "    else:\n",
        "        print(\"Minimum number is:\", num3)"
      ],
      "metadata": {
        "id": "MrT5XN62aDt1"
      },
      "execution_count": null,
      "outputs": []
    },
    {
      "cell_type": "code",
      "source": [
        "x = get_number()\n",
        "y = get_number()\n",
        "z = get_number()\n",
        "compute_number(x,y,z)"
      ],
      "metadata": {
        "colab": {
          "base_uri": "https://localhost:8080/"
        },
        "id": "S4jfIu9LBTS-",
        "outputId": "6ae4d9d2-db19-4478-a93c-4df34bbe4684"
      },
      "execution_count": null,
      "outputs": [
        {
          "output_type": "stream",
          "name": "stdout",
          "text": [
            "Enter a number: 2.5\n",
            "Enter a number: 3.5\n",
            "Enter a number: 5.5\n",
            "Average: 3.833\n",
            "Maximum number is: 5.5\n",
            "Minimum number is: 2.5\n"
          ]
        }
      ]
    },
    {
      "cell_type": "code",
      "source": [
        "# problem_4\n",
        "response = input(\"Is it raining? yes/y or no/n \").lower()\n",
        "response2 = input(\"Is it windy? yes/y or no/n \").lower()\n",
        "response3 = input(\"Is the temperature above 32 degrees? yes/y or no/n \").lower()\n",
        "if response == \"yes\" or \"y\":\n",
        "    if response2 == \"yes\" or \"y\":\n",
        "        print(\"It is too windy for an umbrella, stay home today\")\n",
        "    else:\n",
        "        print(\"Take an umbrella\")\n",
        "elif response == \"no\" or \"n\":\n",
        "    if response3 == \"yes\" or \"y\":\n",
        "        print(\"You are advised to carry saline and cold water with you\")\n",
        "    else:\n",
        "        print(\"Enjoy your day\")"
      ],
      "metadata": {
        "id": "1iMu0MhAMUXI"
      },
      "execution_count": null,
      "outputs": []
    },
    {
      "cell_type": "code",
      "source": [],
      "metadata": {
        "id": "WV0asWujZbxH"
      },
      "execution_count": null,
      "outputs": []
    },
    {
      "cell_type": "markdown",
      "source": [
        "## Loops\n",
        "\n",
        "Repetitions are often needed in programming. Loops enable us to do that."
      ],
      "metadata": {
        "id": "G5FXo90bzhNH"
      }
    },
    {
      "cell_type": "code",
      "source": [
        "# example -> standard loop"
      ],
      "metadata": {
        "id": "p0m417NUznJm"
      },
      "execution_count": null,
      "outputs": []
    },
    {
      "cell_type": "code",
      "source": [],
      "metadata": {
        "id": "oLCoPwbFzpIz"
      },
      "execution_count": null,
      "outputs": []
    },
    {
      "cell_type": "code",
      "source": [],
      "metadata": {
        "id": "Idkti7IczpGB"
      },
      "execution_count": null,
      "outputs": []
    },
    {
      "cell_type": "code",
      "source": [],
      "metadata": {
        "id": "d2JWtn18zqD6"
      },
      "execution_count": null,
      "outputs": []
    },
    {
      "cell_type": "code",
      "source": [
        "# pizza problem with for loops"
      ],
      "metadata": {
        "id": "spbzBbT4zqBK"
      },
      "execution_count": null,
      "outputs": []
    },
    {
      "cell_type": "code",
      "source": [],
      "metadata": {
        "id": "c2w3ps_dzp_Q"
      },
      "execution_count": null,
      "outputs": []
    },
    {
      "cell_type": "code",
      "source": [],
      "metadata": {
        "id": "xMuywb7-zp9O"
      },
      "execution_count": null,
      "outputs": []
    },
    {
      "cell_type": "code",
      "source": [],
      "metadata": {
        "id": "WuwoMUTCzpC8"
      },
      "execution_count": null,
      "outputs": []
    },
    {
      "cell_type": "code",
      "source": [],
      "metadata": {
        "id": "U4EOCzzxztss"
      },
      "execution_count": null,
      "outputs": []
    },
    {
      "cell_type": "code",
      "source": [
        "# Help out a faculty with an unknown number of marks to process"
      ],
      "metadata": {
        "id": "h3VFidhlztp_"
      },
      "execution_count": null,
      "outputs": []
    },
    {
      "cell_type": "code",
      "source": [],
      "metadata": {
        "id": "05kMbL6Eztn8"
      },
      "execution_count": null,
      "outputs": []
    },
    {
      "cell_type": "code",
      "source": [],
      "metadata": {
        "id": "k98XtBkNztk4"
      },
      "execution_count": null,
      "outputs": []
    },
    {
      "cell_type": "code",
      "source": [],
      "metadata": {
        "id": "9-z0bwlhznGy"
      },
      "execution_count": null,
      "outputs": []
    },
    {
      "cell_type": "code",
      "source": [],
      "metadata": {
        "id": "FqX6JAc1znEv"
      },
      "execution_count": null,
      "outputs": []
    },
    {
      "cell_type": "markdown",
      "source": [
        "## Import Statements\n",
        "\n",
        "There are many functions that we commonly would use everyday, such as certain mathematical functions, string functions and so on. Having to write them from scratch for every project would be a gigantic pain in the neck for us. Luckily, Python has a concept called *\"modules\"*, which makes it very easy to reuse code.\n",
        "Think of modules as a contribution of another developer who wrote the code and made it so that everyone else can use the code free of charge!"
      ],
      "metadata": {
        "id": "AqkpWuwayWos"
      }
    },
    {
      "cell_type": "code",
      "source": [
        "# example"
      ],
      "metadata": {
        "id": "r417OyDNzCik"
      },
      "execution_count": null,
      "outputs": []
    },
    {
      "cell_type": "code",
      "source": [],
      "metadata": {
        "id": "VD40IqJdzCfs"
      },
      "execution_count": null,
      "outputs": []
    },
    {
      "cell_type": "code",
      "source": [],
      "metadata": {
        "id": "qfP306nzzCX3"
      },
      "execution_count": null,
      "outputs": []
    },
    {
      "cell_type": "code",
      "source": [],
      "metadata": {
        "id": "xnAzWHuyzElj"
      },
      "execution_count": null,
      "outputs": []
    },
    {
      "cell_type": "code",
      "source": [
        "# a mathematical problem"
      ],
      "metadata": {
        "id": "QKDUwm9jzEgJ"
      },
      "execution_count": null,
      "outputs": []
    },
    {
      "cell_type": "code",
      "source": [],
      "metadata": {
        "id": "s4HGko8uzCVC"
      },
      "execution_count": null,
      "outputs": []
    },
    {
      "cell_type": "code",
      "source": [],
      "metadata": {
        "id": "lxLll13PzCRh"
      },
      "execution_count": null,
      "outputs": []
    },
    {
      "cell_type": "code",
      "source": [],
      "metadata": {
        "id": "aVbF1u23ykyg"
      },
      "execution_count": null,
      "outputs": []
    },
    {
      "cell_type": "code",
      "source": [],
      "metadata": {
        "id": "080f5XZW5mio"
      },
      "execution_count": null,
      "outputs": []
    }
  ]
}