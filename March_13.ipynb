{
  "nbformat": 4,
  "nbformat_minor": 0,
  "metadata": {
    "colab": {
      "provenance": [],
      "include_colab_link": true
    },
    "kernelspec": {
      "name": "python3",
      "display_name": "Python 3"
    },
    "language_info": {
      "name": "python"
    }
  },
  "cells": [
    {
      "cell_type": "markdown",
      "metadata": {
        "id": "view-in-github",
        "colab_type": "text"
      },
      "source": [
        "<a href=\"https://colab.research.google.com/github/witch3rX/Python/blob/main/March_13.ipynb\" target=\"_parent\"><img src=\"https://colab.research.google.com/assets/colab-badge.svg\" alt=\"Open In Colab\"/></a>"
      ]
    },
    {
      "cell_type": "code",
      "execution_count": null,
      "metadata": {
        "colab": {
          "base_uri": "https://localhost:8080/"
        },
        "id": "-aB2RyazzNSi",
        "outputId": "ddba1a59-738a-41c0-fbbb-40ad282598f1"
      },
      "outputs": [
        {
          "output_type": "execute_result",
          "data": {
            "text/plain": [
              "['__add__',\n",
              " '__class__',\n",
              " '__contains__',\n",
              " '__delattr__',\n",
              " '__dir__',\n",
              " '__doc__',\n",
              " '__eq__',\n",
              " '__format__',\n",
              " '__ge__',\n",
              " '__getattribute__',\n",
              " '__getitem__',\n",
              " '__getnewargs__',\n",
              " '__gt__',\n",
              " '__hash__',\n",
              " '__init__',\n",
              " '__init_subclass__',\n",
              " '__iter__',\n",
              " '__le__',\n",
              " '__len__',\n",
              " '__lt__',\n",
              " '__mod__',\n",
              " '__mul__',\n",
              " '__ne__',\n",
              " '__new__',\n",
              " '__reduce__',\n",
              " '__reduce_ex__',\n",
              " '__repr__',\n",
              " '__rmod__',\n",
              " '__rmul__',\n",
              " '__setattr__',\n",
              " '__sizeof__',\n",
              " '__str__',\n",
              " '__subclasshook__',\n",
              " 'capitalize',\n",
              " 'casefold',\n",
              " 'center',\n",
              " 'count',\n",
              " 'encode',\n",
              " 'endswith',\n",
              " 'expandtabs',\n",
              " 'find',\n",
              " 'format',\n",
              " 'format_map',\n",
              " 'index',\n",
              " 'isalnum',\n",
              " 'isalpha',\n",
              " 'isascii',\n",
              " 'isdecimal',\n",
              " 'isdigit',\n",
              " 'isidentifier',\n",
              " 'islower',\n",
              " 'isnumeric',\n",
              " 'isprintable',\n",
              " 'isspace',\n",
              " 'istitle',\n",
              " 'isupper',\n",
              " 'join',\n",
              " 'ljust',\n",
              " 'lower',\n",
              " 'lstrip',\n",
              " 'maketrans',\n",
              " 'partition',\n",
              " 'replace',\n",
              " 'rfind',\n",
              " 'rindex',\n",
              " 'rjust',\n",
              " 'rpartition',\n",
              " 'rsplit',\n",
              " 'rstrip',\n",
              " 'split',\n",
              " 'splitlines',\n",
              " 'startswith',\n",
              " 'strip',\n",
              " 'swapcase',\n",
              " 'title',\n",
              " 'translate',\n",
              " 'upper',\n",
              " 'zfill']"
            ]
          },
          "metadata": {},
          "execution_count": 20
        }
      ],
      "source": [
        "course_name = \"Variables are used to store information to be referenced and manipulated in a computer program. They also provide a way of labeling data with a descriptive name, so our programs can be understood more clearly by the reader and ourselves. It is helpful to think of variables as containers that hold information. Their sole purpose is to label and store data in memory. This data can then be used throughout your program.\"\n",
        "cn = course_name.capitalize()\n",
        "\n",
        "#print(course_name.capitalize())\n",
        "dir(course_name)"
      ]
    },
    {
      "cell_type": "code",
      "source": [
        "cn = course_name.lower()\n",
        "print(cn.count('variable'))\n",
        "res = cn.find('variable')\n",
        "print(course_name[200:])\n",
        "print(res)\n",
        "\n",
        "if('csc101' in cn):\n",
        "  print(\"I got my answer\")\n",
        "else:\n",
        "  print(\"Search somewhere else\")\n",
        "\n",
        "cn_boss = cn.replace('variable', 'boss', 1)\n",
        "print(cn_boss)"
      ],
      "metadata": {
        "colab": {
          "base_uri": "https://localhost:8080/"
        },
        "id": "fvfWMoMF00i2",
        "outputId": "973cffef-70aa-4d87-8b26-1d23d681d04f"
      },
      "execution_count": null,
      "outputs": [
        {
          "output_type": "stream",
          "name": "stdout",
          "text": [
            "2\n",
            " clearly by the reader and ourselves. It is helpful to think of variables as containers that hold information. Their sole purpose is to label and store data in memory. This data can then be used throughout your program.\n",
            "0\n",
            "Search somewhere else\n",
            "bosss are used to store information to be referenced and manipulated in a computer program. they also provide a way of labeling data with a descriptive name, so our programs can be understood more clearly by the reader and ourselves. it is helpful to think of variables as containers that hold information. their sole purpose is to label and store data in memory. this data can then be used throughout your program.\n"
          ]
        }
      ]
    },
    {
      "cell_type": "code",
      "source": [
        "phone_number = '    0132466261   '\n",
        "print(len(phone_number))\n",
        "pn = phone_number.strip()\n",
        "print(len(pn))\n",
        "pn = int(phone_number)\n",
        "print(pn)"
      ],
      "metadata": {
        "colab": {
          "base_uri": "https://localhost:8080/"
        },
        "id": "0hW8FGjV6qln",
        "outputId": "a1db8ad4-a8bb-4dd2-ca4d-de0280eb442b"
      },
      "execution_count": null,
      "outputs": [
        {
          "output_type": "stream",
          "name": "stdout",
          "text": [
            "17\n",
            "10\n",
            "132466261\n"
          ]
        }
      ]
    },
    {
      "cell_type": "code",
      "source": [
        "flower = 'সূর্যমুখী'\n",
        "\n",
        "print(\"Hello\" , flower)"
      ],
      "metadata": {
        "colab": {
          "base_uri": "https://localhost:8080/"
        },
        "id": "ZJuaevU28FSA",
        "outputId": "1314558b-8f67-4fc2-d544-7f94bedf193c"
      },
      "execution_count": null,
      "outputs": [
        {
          "output_type": "stream",
          "name": "stdout",
          "text": [
            "Hello সূর্যমুখী\n"
          ]
        }
      ]
    },
    {
      "cell_type": "code",
      "source": [
        "def myLen(text):\n",
        "  count = 0\n",
        "  for x in text:\n",
        "    count += 1\n",
        "  return count\n",
        "\n",
        "print(len(course_name))\n",
        "print(myLen(course_name))\n",
        "\n",
        "def _Strip_(text):\n",
        "  copy = ''\n",
        "  left_switch = False\n",
        "  for x in text:\n",
        "    if(x == ' ' and left_switch == False):\n",
        "      continue\n",
        "    else:\n",
        "      left_switch = True\n",
        "      copy += x\n",
        "\n",
        "  return copy\n",
        "\n",
        "def String_Reverse(text):\n",
        "  rvrsd = ''\n",
        "  for x in reversed(text):\n",
        "    rvrsd += x\n",
        "\n",
        "  return rvrsd\n",
        "\n",
        "def Strip(text):\n",
        "  copy  = _Strip_(text)\n",
        "\n",
        "  rvrsd = String_Reverse(copy)\n",
        "  new_copy = _Strip_(rvrsd)\n",
        "  striped_text = String_Reverse(new_copy)\n",
        "  return striped_text\n",
        "\n",
        "sample_text = \"  Life is good   \"\n",
        "print(Strip(sample_text))\n"
      ],
      "metadata": {
        "colab": {
          "base_uri": "https://localhost:8080/"
        },
        "id": "wCc-ZT6G8-i1",
        "outputId": "ca2c884c-0815-4056-f8bf-8720a68c39de"
      },
      "execution_count": null,
      "outputs": [
        {
          "output_type": "stream",
          "name": "stdout",
          "text": [
            "419\n",
            "419\n",
            "Life is good\n"
          ]
        }
      ]
    }
  ]
}