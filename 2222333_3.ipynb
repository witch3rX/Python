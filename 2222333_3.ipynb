{
  "nbformat": 4,
  "nbformat_minor": 0,
  "metadata": {
    "colab": {
      "provenance": [],
      "include_colab_link": true
    },
    "kernelspec": {
      "name": "python3",
      "display_name": "Python 3"
    },
    "language_info": {
      "name": "python"
    }
  },
  "cells": [
    {
      "cell_type": "markdown",
      "metadata": {
        "id": "view-in-github",
        "colab_type": "text"
      },
      "source": [
        "<a href=\"https://colab.research.google.com/github/witch3rX/Python/blob/main/2222333_3.ipynb\" target=\"_parent\"><img src=\"https://colab.research.google.com/assets/colab-badge.svg\" alt=\"Open In Colab\"/></a>"
      ]
    },
    {
      "cell_type": "markdown",
      "source": [
        "#Instructions\n",
        "* Make a copy of this file and submit it in the google classroom under Quiz # 03 heading. You should write and run the code right in that colab file.\n",
        "* You should do your own work. Copying from friends/website or any other sources is prohibited, and if caught then you will be awarded with zero marks.\n",
        "* Add as many cells as you want but do not delete any cell.\n",
        "\n",
        "Enjoy Coding!"
      ],
      "metadata": {
        "id": "tutYmymGz-o9"
      }
    },
    {
      "cell_type": "markdown",
      "source": [
        "**Name**: Gazi Iram Ridwan\n",
        "\n",
        "**ID**: 2222333\n",
        "\n",
        "**Section**: 6\n",
        "\n",
        "\n",
        "---\n",
        "\n"
      ],
      "metadata": {
        "id": "AlpS9Sbjzj4_"
      }
    },
    {
      "cell_type": "markdown",
      "source": [
        "#Question # 1:\n",
        "\n",
        "A code snippet is given below which can generate random numbers with in a given range. Use that function to generate random CGPA for n students and do the following. \\\\\n",
        "a) Take the number of students n as input \\\\\n",
        "b) Generate the CGPA of n number of students using the function provided and store it in a list. \\\\\n",
        "c) Categorize the cgpa according to the following table: \\\\\n",
        "\n",
        "Student Category | CGPA range\n",
        "-----------------|-----------\n",
        "Brilliants       | 3.2 - 4.0\n",
        "Rock Stars       | 2.4 - 3.19\n",
        "Politicians      | 1.8 - 2.39\n",
        "Legends          | 0   - 1.79\n",
        "\n",
        "To categorize students you have to write a function Bin() which will accept the list of cgpa, mininum cgpa and maximum cgpa and return the list of students falling in that range (min_cgpa, max_cgpa).\n",
        "\n",
        "d) Store the list of students returned from the function in each category in a dictionary \\\\\n",
        "e) Print the result in a tabular form as given in the sample (Your table values will look different because of the data but it should be in the same format as given in the sample input/output below:\n",
        "\n",
        "**Sample Input/ Output:** \\\\\n",
        "Enter number of Students:35 \\\\\n",
        "List of CGPA = [2.23, 0.75, 2.87, 1.04, 3.07, 3.81, 2.47, 0.18, 1.31, 1.06, 3.15, 3.41, 2.86, 2.07, 2.73, 1.0, 2.04, 0.69, 0.94, 0.49, 1.97, 0.29, 3.07, 3.74, 3.24, 1.68, 2.86, 3.3, 3.84, 0.69, 2.96, 3.03, 0.59, 1.8, 3.85]\n",
        "\n",
        "Student Category \t| Count \t|List of CGPA in this category\n",
        "------------------|---------|------------------------------\n",
        "Brilliants \t|\t 7 \t| [3.81, 3.41, 3.74, 3.24, 3.3, 3.84, 3.85]\n",
        "Rock Stars \t|\t 10 |\t [2.87, 3.07, 2.47, 3.15, 2.86, 2.73, 3.07, 2.86, 2.96, 3.03]\n",
        "Politicians |\t\t 5 |\t [2.23, 2.07, 2.04, 1.97, 1.8]\n",
        "Legends \t|\t 13 |\t [0.75, 1.04, 0.18, 1.31, 1.06, 1.0, 0.69, 0.94, 0.49, 0.29, 1.68, 0.69, 0.59]"
      ],
      "metadata": {
        "id": "1lc7RQsw0VDD"
      }
    },
    {
      "cell_type": "code",
      "execution_count": null,
      "metadata": {
        "id": "mZHm16KmziaU"
      },
      "outputs": [],
      "source": [
        "#Function to generate random floating point numbers in a given range (min_value, max_value)\n",
        "def GenerateRandomNumbers(total_numbers_to_generate, min_value, max_value):\n",
        "  random_list = []\n",
        "  for i in range(total_numbers_to_generate):\n",
        "    random_list.append(round(random.uniform(min_value, max_value),2))\n",
        "\n",
        "  return random_list"
      ]
    },
    {
      "cell_type": "code",
      "source": [
        "# Your Code\n",
        "import random\n",
        "\n",
        "\n",
        "def GenerateRandomNumbers(total_numbers_to_generate, min_value, max_value):\n",
        "    random_list = []\n",
        "    for i in range(total_numbers_to_generate):\n",
        "        random_list.append(round(random.uniform(min_value, max_value), 2))\n",
        "\n",
        "    return random_list\n",
        "\n",
        "\n",
        "n = int(input(\"Enter number of students: \"))\n",
        "list = GenerateRandomNumbers(n, 0, 4)\n",
        "print(list)\n",
        "\n",
        "\n",
        "def Bin(list, min_cgpa, max_cgpa):\n",
        "    for i in list:\n",
        "        list1 = []\n",
        "        for j in range(min_cgpa, max_cgpa):\n",
        "            list1.append(j)\n",
        "        return list1\n",
        "\n",
        "\n",
        "a = Bin(list, 3, 5)\n",
        "print(a)\n",
        "a1 = len(a)\n",
        "\n",
        "\n",
        "def Bin(list, min_cgpa, max_cgpa):\n",
        "    for i in list:\n",
        "        list1 = []\n",
        "        for j in range(min_cgpa, max_cgpa):\n",
        "            list1.append(j)\n",
        "        return list1\n",
        "\n",
        "\n",
        "x = Bin(list, 2, 3)\n",
        "print(x)\n",
        "a2 = len(x)\n",
        "\n",
        "\n",
        "def Bin(list, min_cgpa, max_cgpa):\n",
        "    for i in list:\n",
        "        list1 = []\n",
        "        for j in range(min_cgpa, max_cgpa):\n",
        "            list1.append(j)\n",
        "        return list1\n",
        "\n",
        "\n",
        "y = Bin(list, 1, 2)\n",
        "print(y)\n",
        "a3 = len(y)\n",
        "\n",
        "\n",
        "def Bin(list, min_cgpa, max_cgpa):\n",
        "    for i in list:\n",
        "        list1 = []\n",
        "        for j in range(min_cgpa, max_cgpa):\n",
        "            list1.append(j)\n",
        "        return list1\n",
        "\n",
        "\n",
        "z = Bin(list, 0, 2)\n",
        "print(z)\n",
        "a4 = len(z)\n",
        "\n",
        "\n",
        "d = {'Brilliants': a1, 'Rock Stars': a2, 'Politicians': a3, 'Legends': a4}\n",
        "print(d)"
      ],
      "metadata": {
        "id": "Up1dTGoGJWER",
        "outputId": "f7e20967-1d0a-4aba-e4ff-a90cd843b1d6",
        "colab": {
          "base_uri": "https://localhost:8080/"
        }
      },
      "execution_count": null,
      "outputs": [
        {
          "output_type": "stream",
          "name": "stdout",
          "text": [
            "Enter number of students: 31\n",
            "[0.89, 3.54, 2.42, 3.88, 1.9, 2.1, 3.61, 2.72, 3.37, 0.96, 0.35, 3.97, 1.97, 3.32, 2.13, 2.8, 3.2, 0.68, 1.99, 3.3, 2.0, 2.39, 1.16, 2.33, 2.63, 3.79, 0.28, 3.93, 2.8, 0.38, 2.85]\n",
            "[3, 4]\n",
            "[2]\n",
            "[1]\n",
            "[0, 1]\n",
            "{'Brilliants': 2, 'Rock Stars': 1, 'Politicians': 1, 'Legends': 2}\n"
          ]
        }
      ]
    }
  ]
}